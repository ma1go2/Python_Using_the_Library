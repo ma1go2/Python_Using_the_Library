{
  {
   "cell_type": "markdown",
   "id": "8960a0d3",
   "metadata": {},
   "source": [
    "# Numpy"
   ]
  },
  {
   "cell_type": "code",
   "execution_count": 27,
   "id": "dec969b5",
   "metadata": {},
   "outputs": [],
   "source": [
    "import numpy as np\n",
    "\n",
    "my_arr = np.arange(100000)\n",
    "\n",
    "my_list = list(range(100000))"
   ]
  },
  {
   "cell_type": "markdown",
   "id": "19a24f6e",
   "metadata": {},
   "source": [
    "###### 계산속도가 빠르다"
   ]
  },
  {
   "cell_type": "code",
   "execution_count": 36,
   "id": "3fb58002",
   "metadata": {},
   "outputs": [
    {
     "name": "stdout",
     "output_type": "stream",
     "text": [
      "Wall time: 998 µs\n"
     ]
    }
   ],
   "source": [
    "%time for _ in range(10): my_arr2 = my_arr * 2"
   ]
  },
  {
   "cell_type": "code",
   "execution_count": 37,
   "id": "8247c873",
   "metadata": {
    "scrolled": true
   },
   "outputs": [
    {
     "name": "stdout",
     "output_type": "stream",
     "text": [
      "Wall time: 61.8 ms\n"
     ]
    }
   ],
   "source": [
    "%time for _ in range(10): my_list2 = [x * 2 for x in my_list]"
   ]
  },
  {
   "cell_type": "code",
   "execution_count": 24,
   "id": "845073e5",
   "metadata": {
    "scrolled": true
   },
   "outputs": [
    {
     "data": {
      "text/plain": [
       "61.92384769539078"
      ]
     },
     "execution_count": 24,
     "metadata": {},
     "output_type": "execute_result"
    }
   ],
   "source": [
    "61800/998"
   ]
  },
  {
   "cell_type": "markdown",
   "id": "e720e3a9",
   "metadata": {},
   "source": [
    "열 배에서 백 배 이상 빠르고 메모리도 적게 사용한다."
   ]
  },
  {
   "cell_type": "markdown",
   "id": "9558ed6f",
   "metadata": {},
   "source": [
    "### 랜덤, Random\n",
    "###### randn \n",
    "- 표준 정규 분포 ( N(0,1) 즉, 평균이 0이고 표준편차가 1인 분포) 에서 추출한 샘플을 리턴한다. 따라서 음수의 값이 나올 수 있다.\n",
    "\n",
    "###### rand\n",
    "- 즉, 0은 들어가지만 1은 들어가지 않는 균등분포(각각의 변수가 나올 확률이 똑같은 분포)로 부터 랜덤한 샘플을 추출하여 배열을 반환해주는 것이다. 따라서 음수의 값이 나올 수 없다."
   ]
  },
  {
   "cell_type": "code",
   "execution_count": 82,
   "id": "90b1c20c",
   "metadata": {},
   "outputs": [
    {
     "data": {
      "image/png": "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\n",
      "text/plain": [
       "<Figure size 432x288 with 2 Axes>"
      ]
     },
     "metadata": {
      "needs_background": "light"
     },
     "output_type": "display_data"
    }
   ],
   "source": [
    "import matplotlib.pyplot as plt\n",
    "\n",
    "rand_arr = np.random.rand(1000000)\n",
    "randn_arr = np.random.randn(1000000)\n",
    "\n",
    "fig = plt.figure()\n",
    "\n",
    "ax1 = fig.add_subplot(1,2,1)\n",
    "ax2 = fig.add_subplot(1,2,2)\n",
    "\n",
    "ax1.hist(rand_arr, bins=100)\n",
    "ax2.hist(randn_arr, bins=100)\n",
    "plt.show()"
   ]
  },
  {
   "cell_type": "markdown",
   "id": "6187c238",
   "metadata": {},
   "source": [
    "### 다차원 배열 객체 계산"
   ]
  },
  {
   "cell_type": "code",
   "execution_count": 87,
   "id": "2e679efd",
   "metadata": {},
   "outputs": [
    {
     "data": {
      "text/plain": [
       "array([[0.0574811 , 0.99504121, 0.88629432],\n",
       "       [0.27603803, 0.98587441, 0.6466943 ]])"
      ]
     },
     "execution_count": 87,
     "metadata": {},
     "output_type": "execute_result"
    }
   ],
   "source": [
    "data = np.random.rand(2, 3)\n",
    "\n",
    "data"
   ]
  },
  {
   "cell_type": "code",
   "execution_count": 88,
   "id": "17a4cd51",
   "metadata": {},
   "outputs": [
    {
     "data": {
      "text/plain": [
       "array([[0.83772801, 0.01319667, 0.85623341],\n",
       "       [0.40158201, 0.45268509, 0.69097427]])"
      ]
     },
     "execution_count": 88,
     "metadata": {},
     "output_type": "execute_result"
    }
   ],
   "source": [
    "data2 = np.random.rand(2,3)\n",
    "\n",
    "data2"
   ]
  },
  {
   "cell_type": "code",
   "execution_count": 89,
   "id": "7d74245b",
   "metadata": {},
   "outputs": [
    {
     "data": {
      "text/plain": [
       "array([[0.57481101, 9.95041209, 8.86294319],\n",
       "       [2.76038027, 9.85874408, 6.46694303]])"
      ]
     },
     "execution_count": 89,
     "metadata": {},
     "output_type": "execute_result"
    }
   ],
   "source": [
    "data *10"
   ]
  },
  {
   "cell_type": "code",
   "execution_count": 90,
   "id": "dc7ff1ac",
   "metadata": {
    "scrolled": true
   },
   "outputs": [
    {
     "data": {
      "text/plain": [
       "array([[0.89520911, 1.00823788, 1.74252773],\n",
       "       [0.67762004, 1.4385595 , 1.33766857]])"
      ]
     },
     "execution_count": 90,
     "metadata": {},
     "output_type": "execute_result"
    }
   ],
   "source": [
    "data + data2"
   ]
  },
  {
   "cell_type": "markdown",
   "id": "db85fda4",
   "metadata": {},
   "source": [
    "### shape\n",
    "- 모든 배열의 각 차원의 크기를 알려준다."
   ]
  },
  {
   "cell_type": "code",
   "execution_count": 91,
   "id": "5e8a6ba3",
   "metadata": {
    "scrolled": true
   },
   "outputs": [
    {
     "data": {
      "text/plain": [
       "(2, 3)"
      ]
     },
     "execution_count": 91,
     "metadata": {},
     "output_type": "execute_result"
    }
   ],
   "source": [
    "data.shape"
   ]
  },
  {
   "cell_type": "markdown",
   "id": "fc1deebb",
   "metadata": {},
   "source": [
    "### ndim\n",
    "- 배열의 차원(축)수를 알려준다."
   ]
  },
  {
   "cell_type": "code",
   "execution_count": 190,
   "id": "01b5537f",
   "metadata": {
    "scrolled": true
   },
   "outputs": [
    {
     "data": {
      "text/plain": [
       "2"
      ]
     },
     "execution_count": 190,
     "metadata": {},
     "output_type": "execute_result"
    }
   ],
   "source": [
    "data.ndim"
   ]
  },
  {
   "cell_type": "markdown",
   "id": "37d853cc",
   "metadata": {},
   "source": [
    "### dtype\n",
    "- 튜플과 배열에 저장된 자료형을 알려준다."
   ]
  },
  {
   "cell_type": "code",
   "execution_count": 92,
   "id": "c3d5423c",
   "metadata": {},
   "outputs": [
    {
     "data": {
      "text/plain": [
       "dtype('float64')"
      ]
     },
     "execution_count": 92,
     "metadata": {},
     "output_type": "execute_result"
    }
   ],
   "source": [
    "data.dtype"
   ]
  },
  {
   "cell_type": "markdown",
   "id": "4af367d5",
   "metadata": {},
   "source": [
    "### array\n",
    "- 입력 데이터를 ndarray로 변환한다."
   ]
  },
  {
   "cell_type": "code",
   "execution_count": 158,
   "id": "d57f439a",
   "metadata": {},
   "outputs": [],
   "source": [
    "test = [[1,2,3],[1,2,3]]"
   ]
  },
  {
   "cell_type": "code",
   "execution_count": 160,
   "id": "21c808bf",
   "metadata": {},
   "outputs": [
    {
     "data": {
      "text/plain": [
       "list"
      ]
     },
     "execution_count": 160,
     "metadata": {},
     "output_type": "execute_result"
    }
   ],
   "source": [
    "type(test)"
   ]
  },
  {
   "cell_type": "code",
   "execution_count": 177,
   "id": "30d4b27a",
   "metadata": {},
   "outputs": [
    {
     "data": {
      "text/plain": [
       "array([[1, 2, 3],\n",
       "       [1, 2, 3]])"
      ]
     },
     "execution_count": 177,
     "metadata": {},
     "output_type": "execute_result"
    }
   ],
   "source": [
    "a = np.array(test)\n",
    "a"
   ]
  },
  {
   "cell_type": "code",
   "execution_count": 178,
   "id": "bcdda1ed",
   "metadata": {},
   "outputs": [
    {
     "data": {
      "text/plain": [
       "numpy.ndarray"
      ]
     },
     "execution_count": 178,
     "metadata": {},
     "output_type": "execute_result"
    }
   ],
   "source": [
    "type(a)"
   ]
  },
  {
   "cell_type": "markdown",
   "id": "f8b7dfdb",
   "metadata": {},
   "source": [
    "### asarray\n",
    "- 입력 데이터가 ndarray일 경우 복사가 일어나지 않는다."
   ]
  },
  {
   "cell_type": "code",
   "execution_count": 180,
   "id": "40bdd7e8",
   "metadata": {},
   "outputs": [
    {
     "data": {
      "text/plain": [
       "array([[1, 2, 3],\n",
       "       [1, 2, 3]])"
      ]
     },
     "execution_count": 180,
     "metadata": {},
     "output_type": "execute_result"
    }
   ],
   "source": [
    "b= np.asarray(a)\n",
    "b"
   ]
  },
  {
   "cell_type": "code",
   "execution_count": 181,
   "id": "f8c3b139",
   "metadata": {},
   "outputs": [],
   "source": [
    "a+=1"
   ]
  },
  {
   "cell_type": "code",
   "execution_count": 182,
   "id": "29e31793",
   "metadata": {},
   "outputs": [
    {
     "data": {
      "text/plain": [
       "array([[2, 3, 4],\n",
       "       [2, 3, 4]])"
      ]
     },
     "execution_count": 182,
     "metadata": {},
     "output_type": "execute_result"
    }
   ],
   "source": [
    "b"
   ]
  },
  {
   "cell_type": "markdown",
   "id": "d585a144",
   "metadata": {},
   "source": [
    "### ndarray 생성하기"
   ]
  },
  {
   "cell_type": "code",
   "execution_count": 99,
   "id": "8968392f",
   "metadata": {},
   "outputs": [
    {
     "data": {
      "text/plain": [
       "array([6. , 7.5, 8. , 0. , 1. ])"
      ]
     },
     "execution_count": 99,
     "metadata": {},
     "output_type": "execute_result"
    }
   ],
   "source": [
    "data1 = [6, 7.5, 8, 0, 1]\n",
    "\n",
    "arr1 = np.array(data1, dtype=float)\n",
    "\n",
    "arr1"
   ]
  },
  {
   "cell_type": "code",
   "execution_count": 100,
   "id": "f0c1790a",
   "metadata": {},
   "outputs": [
    {
     "data": {
      "text/plain": [
       "[[1, 2, 3, 4], [5, 6, 7, 8]]"
      ]
     },
     "execution_count": 100,
     "metadata": {},
     "output_type": "execute_result"
    }
   ],
   "source": [
    "data2 = [[1,2,3,4],[5,6,7,8]]\n",
    "\n",
    "data2"
   ]
  },
  {
   "cell_type": "code",
   "execution_count": 101,
   "id": "aad13904",
   "metadata": {},
   "outputs": [
    {
     "data": {
      "text/plain": [
       "array([[1, 2, 3, 4],\n",
       "       [5, 6, 7, 8]])"
      ]
     },
     "execution_count": 101,
     "metadata": {},
     "output_type": "execute_result"
    }
   ],
   "source": [
    "arr2 = np.array(data2)\n",
    "\n",
    "arr2"
   ]
  },
  {
   "cell_type": "markdown",
   "id": "fcd1b91f",
   "metadata": {},
   "source": [
    "### zeros, ones\n",
    "- 배열에 0과 1이 들어 있는 배열을 생성한다."
   ]
  },
  {
   "cell_type": "code",
   "execution_count": 64,
   "id": "392d12bc",
   "metadata": {},
   "outputs": [
    {
     "data": {
      "text/plain": [
       "array([0., 0., 0., 0., 0., 0., 0., 0., 0., 0.])"
      ]
     },
     "execution_count": 64,
     "metadata": {},
     "output_type": "execute_result"
    }
   ],
   "source": [
    "np.zeros(10)"
   ]
  },
  {
   "cell_type": "code",
   "execution_count": 102,
   "id": "e2697246",
   "metadata": {},
   "outputs": [
    {
     "data": {
      "text/plain": [
       "array([[1., 1., 1., 1., 1., 1.],\n",
       "       [1., 1., 1., 1., 1., 1.],\n",
       "       [1., 1., 1., 1., 1., 1.]])"
      ]
     },
     "execution_count": 102,
     "metadata": {},
     "output_type": "execute_result"
    }
   ],
   "source": [
    "np.ones((3,6))"
   ]
  },
  {
   "cell_type": "markdown",
   "id": "a2e65c59",
   "metadata": {},
   "source": [
    "### empty\n",
    "- 배열에 쓰레기(Garbage) 값을 채워 넣는다"
   ]
  },
  {
   "cell_type": "code",
   "execution_count": 71,
   "id": "e0a3a4e8",
   "metadata": {
    "scrolled": true
   },
   "outputs": [
    {
     "data": {
      "text/plain": [
       "array([[[1.02781022e-311, 3.16202013e-322],\n",
       "        [0.00000000e+000, 0.00000000e+000],\n",
       "        [4.00766127e+175, 6.23471642e-038]],\n",
       "\n",
       "       [[1.96792483e+160, 2.14712337e+184],\n",
       "        [7.12311351e-067, 2.05607178e+160],\n",
       "        [1.13018087e-042, 3.43441113e+179]]])"
      ]
     },
     "execution_count": 71,
     "metadata": {},
     "output_type": "execute_result"
    }
   ],
   "source": [
    "np.empty((2,3,2))"
   ]
  },
  {
   "cell_type": "markdown",
   "id": "e408dfc7",
   "metadata": {},
   "source": [
    "### full\n",
    "- 인자로 받은 값으로 배열을 채운다"
   ]
  },
  {
   "cell_type": "code",
   "execution_count": 143,
   "id": "3f48019c",
   "metadata": {
    "scrolled": true
   },
   "outputs": [
    {
     "data": {
      "text/plain": [
       "array([[[4, 4, 4, 4],\n",
       "        [4, 4, 4, 4],\n",
       "        [4, 4, 4, 4]],\n",
       "\n",
       "       [[4, 4, 4, 4],\n",
       "        [4, 4, 4, 4],\n",
       "        [4, 4, 4, 4]]])"
      ]
     },
     "execution_count": 143,
     "metadata": {},
     "output_type": "execute_result"
    }
   ],
   "source": [
    "np.full((2,3,4),4)"
   ]
  },
  {
   "cell_type": "markdown",
   "id": "aea2de7a",
   "metadata": {},
   "source": [
    "### eye\n",
    "- N $\\times$ N 크기의 단위행렬을 생성한다."
   ]
  },
  {
   "cell_type": "code",
   "execution_count": 146,
   "id": "6da01b59",
   "metadata": {
    "scrolled": true
   },
   "outputs": [
    {
     "data": {
      "text/plain": [
       "array([[1., 0., 0., 0.],\n",
       "       [0., 1., 0., 0.],\n",
       "       [0., 0., 1., 0.],\n",
       "       [0., 0., 0., 1.]])"
      ]
     },
     "execution_count": 146,
     "metadata": {},
     "output_type": "execute_result"
    }
   ],
   "source": [
    "np.eye(4)"
   ]
  },
  {
   "cell_type": "markdown",
   "id": "45182f36",
   "metadata": {},
   "source": [
    "### arange\n",
    "- range함수와 유사하지만 list대신 ndarray를 반환한다."
   ]
  },
  {
   "cell_type": "code",
   "execution_count": 134,
   "id": "cbbbbf6a",
   "metadata": {},
   "outputs": [
    {
     "data": {
      "text/plain": [
       "array([ 0,  1,  2,  3,  4,  5,  6,  7,  8,  9, 10, 11, 12, 13, 14])"
      ]
     },
     "execution_count": 134,
     "metadata": {},
     "output_type": "execute_result"
    }
   ],
   "source": [
    "np.arange(15)"
   ]
  },
  {
   "cell_type": "code",
   "execution_count": 189,
   "id": "059b50a9",
   "metadata": {},
   "outputs": [
    {
     "data": {
      "text/plain": [
       "numpy.ndarray"
      ]
     },
     "execution_count": 189,
     "metadata": {},
     "output_type": "execute_result"
    }
   ],
   "source": [
    "type(np.arange(15))"
   ]
  },
  {
   "cell_type": "markdown",
   "id": "882875d4",
   "metadata": {},
   "source": [
    "### ndarray의 dtype\n",
    "- 메모리에 있는 특정 데이터를 해석하기 위해 필요한 정보를 담고있는 특수한 객체"
   ]
  },
  {
   "cell_type": "code",
   "execution_count": 193,
   "id": "42aed45c",
   "metadata": {},
   "outputs": [
    {
     "data": {
      "text/plain": [
       "array([1., 2., 3.])"
      ]
     },
     "execution_count": 193,
     "metadata": {},
     "output_type": "execute_result"
    }
   ],
   "source": [
    "arr1 = np.array([1,2,3], dtype=np.float64)\n",
    "arr1"
   ]
  },
  {
   "cell_type": "code",
   "execution_count": 194,
   "id": "4d66aac0",
   "metadata": {},
   "outputs": [
    {
     "data": {
      "text/plain": [
       "array([1, 2, 3])"
      ]
     },
     "execution_count": 194,
     "metadata": {},
     "output_type": "execute_result"
    }
   ],
   "source": [
    "arr2 = np.array([1,2,3], dtype = np.int32)\n",
    "arr2"
   ]
  },
  {
   "cell_type": "code",
   "execution_count": 195,
   "id": "f254d0f9",
   "metadata": {},
   "outputs": [
    {
     "data": {
      "text/plain": [
       "dtype('float64')"
      ]
     },
     "execution_count": 195,
     "metadata": {},
     "output_type": "execute_result"
    }
   ],
   "source": [
    "arr1.dtype"
   ]
  },
  {
   "cell_type": "code",
   "execution_count": 196,
   "id": "9fe00df7",
   "metadata": {},
   "outputs": [
    {
     "data": {
      "text/plain": [
       "dtype('int32')"
      ]
     },
     "execution_count": 196,
     "metadata": {},
     "output_type": "execute_result"
    }
   ],
   "source": [
    "arr2.dtype"
   ]
  },
  {
   "cell_type": "markdown",
   "id": "81ec5071",
   "metadata": {},
   "source": [
    "### Numpy 자료형 140p\n",
    "| 자료형| 자료형 코드 | 설명 |\n",
    "| ----------- | ----------- | -------------|\n",
    "| int8, unit8 | i1, u1 | 부호가 있는 8bit(1byte) 정수형과 부호가 없는 8bit 정수형|\n",
    "| int16, unit16 | i2, u2 | 부호가 있는 16bit 정수형과 부호가 없는 16bit 정수형|\n",
    "| int32, unit32 | i4, u4 | 부호가 있는 32bit 정수형과 부호가 없는 32bit 정수형|\n",
    "| int64, unit64 | i8, u8 | 부호가 있는 64bit 정수형과 부호가 없는 64bit 정수형|\n",
    "| float16 | f2 |반정밀도 부동소수점|\n",
    "| float32 | f4 or f |단정밀도 부동소수점, C언어의 float형과 호환|\n",
    "| float64 | f8 or d | 배정밀도 부동소수점, C언어의 double형과 python의 float객체와 호환|\n",
    "| float128 | f16 or g | 확장정밀도 부동소수점 |\n",
    "| complex64(126, 256) | c8, c16, c32 | 각각 2개의 32, 64, 128비트 부동소수점형을 가지는 복소수\n",
    "| bool | ? | True와 False 값을 저장하는 불리언형|\n",
    "|object | O | 파이썬 객체형|\n",
    "| strings | S | 고정 길이 아스키 문자열형 |\n",
    "|unicode_ | U | 고정 길이 유니코드형|"
   ]
  },
  {
   "cell_type": "markdown",
   "id": "ea80699e",
   "metadata": {},
   "source": [
    "### astype\n",
    "- 다른 형으로 명시적 변환한다."
   ]
  },
  {
   "cell_type": "code",
   "execution_count": 199,
   "id": "ed13ee10",
   "metadata": {},
   "outputs": [
    {
     "data": {
      "text/plain": [
       "dtype('int32')"
      ]
     },
     "execution_count": 199,
     "metadata": {},
     "output_type": "execute_result"
    }
   ],
   "source": [
    "arr = np.array([1,2,3,4,5])\n",
    "\n",
    "arr.dtype"
   ]
  },
  {
   "cell_type": "code",
   "execution_count": 200,
   "id": "85d0d7aa",
   "metadata": {},
   "outputs": [
    {
     "data": {
      "text/plain": [
       "dtype('float64')"
      ]
     },
     "execution_count": 200,
     "metadata": {},
     "output_type": "execute_result"
    }
   ],
   "source": [
    "float_arr = arr.astype(np.float64)\n",
    "\n",
    "float_arr.dtype"
   ]
  },
  {
   "cell_type": "code",
   "execution_count": 201,
   "id": "6c05c316",
   "metadata": {},
   "outputs": [
    {
     "data": {
      "text/plain": [
       "array([3.5, 1.2, 3.5, 3.7, 2.3])"
      ]
     },
     "execution_count": 201,
     "metadata": {},
     "output_type": "execute_result"
    }
   ],
   "source": [
    "arr = np.array([3.5, 1.2, 3.5, 3.7, 2.3])\n",
    "\n",
    "arr"
   ]
  },
  {
   "cell_type": "code",
   "execution_count": 86,
   "id": "4b037cfa",
   "metadata": {
    "scrolled": true
   },
   "outputs": [
    {
     "data": {
      "text/plain": [
       "array([3, 1, 3, 3, 2])"
      ]
     },
     "execution_count": 86,
     "metadata": {},
     "output_type": "execute_result"
    }
   ],
   "source": [
    "arr.astype(np.int32) #소수점 아래는 버려진다."
   ]
  },
  {
   "cell_type": "code",
   "execution_count": 202,
   "id": "f1aa5e60",
   "metadata": {},
   "outputs": [
    {
     "data": {
      "text/plain": [
       "array([  1.,  23., 344.])"
      ]
     },
     "execution_count": 202,
     "metadata": {},
     "output_type": "execute_result"
    }
   ],
   "source": [
    "numeric_strings = np.array(['1','23','344'], dtype=np.string_)\n",
    "\n",
    "numeric_strings.astype(float) "
   ]
  },
  {
   "cell_type": "code",
   "execution_count": 203,
   "id": "95bcd078",
   "metadata": {},
   "outputs": [
    {
     "data": {
      "text/plain": [
       "array([0., 1., 2., 3., 4., 5., 6., 7., 8., 9.])"
      ]
     },
     "execution_count": 203,
     "metadata": {},
     "output_type": "execute_result"
    }
   ],
   "source": [
    "int_array = np.arange(10)\n",
    "\n",
    "calibers = np.array([1,2,3], dtype=np.float64)\n",
    "\n",
    "int_array.astype(calibers.dtype)"
   ]
  },
  {
   "cell_type": "code",
   "execution_count": 204,
   "id": "29f4286c",
   "metadata": {},
   "outputs": [
    {
     "data": {
      "text/plain": [
       "array([         0, 1072693248,          0, 1072693248,          0,\n",
       "       1072693248,          0, 1072693248], dtype=uint32)"
      ]
     },
     "execution_count": 204,
     "metadata": {},
     "output_type": "execute_result"
    }
   ],
   "source": [
    "empty_uint32 = np.empty(8, dtype='u4')\n",
    "\n",
    "empty_uint32"
   ]
  },
  {
   "cell_type": "markdown",
   "id": "ad4f6cc0",
   "metadata": {},
   "source": [
    "### Numpy 배열의 산술 연산"
   ]
  },
  {
   "cell_type": "code",
   "execution_count": 209,
   "id": "1a876ebc",
   "metadata": {},
   "outputs": [
    {
     "data": {
      "text/plain": [
       "array([[1., 2., 3.],\n",
       "       [4., 5., 6.]])"
      ]
     },
     "execution_count": 209,
     "metadata": {},
     "output_type": "execute_result"
    }
   ],
   "source": [
    "arr = np.array([[1,2,3],[4,5,6]], dtype=float)\n",
    "arr"
   ]
  },
  {
   "cell_type": "code",
   "execution_count": 210,
   "id": "b049a534",
   "metadata": {},
   "outputs": [
    {
     "data": {
      "text/plain": [
       "array([[ 1.,  4.,  9.],\n",
       "       [16., 25., 36.]])"
      ]
     },
     "execution_count": 210,
     "metadata": {},
     "output_type": "execute_result"
    }
   ],
   "source": [
    "arr * arr"
   ]
  },
  {
   "cell_type": "code",
   "execution_count": 211,
   "id": "a96305c9",
   "metadata": {},
   "outputs": [
    {
     "data": {
      "text/plain": [
       "array([[0., 0., 0.],\n",
       "       [0., 0., 0.]])"
      ]
     },
     "execution_count": 211,
     "metadata": {},
     "output_type": "execute_result"
    }
   ],
   "source": [
    "arr - arr"
   ]
  },
  {
   "cell_type": "code",
   "execution_count": 212,
   "id": "35007a3c",
   "metadata": {},
   "outputs": [
    {
     "data": {
      "text/plain": [
       "array([[1.        , 0.5       , 0.33333333],\n",
       "       [0.25      , 0.2       , 0.16666667]])"
      ]
     },
     "execution_count": 212,
     "metadata": {},
     "output_type": "execute_result"
    }
   ],
   "source": [
    "1/arr"
   ]
  },
  {
   "cell_type": "code",
   "execution_count": 213,
   "id": "08e56fc8",
   "metadata": {},
   "outputs": [
    {
     "data": {
      "text/plain": [
       "array([[1.        , 1.41421356, 1.73205081],\n",
       "       [2.        , 2.23606798, 2.44948974]])"
      ]
     },
     "execution_count": 213,
     "metadata": {},
     "output_type": "execute_result"
    }
   ],
   "source": [
    "arr**0.5"
   ]
  },
  {
   "cell_type": "code",
   "execution_count": 220,
   "id": "ba43c0a8",
   "metadata": {},
   "outputs": [
    {
     "name": "stdout",
     "output_type": "stream",
     "text": [
      "[[ 0.  4.  1.]\n",
      " [ 7.  2. 12.]] \n",
      "\n",
      " [[1. 2. 3.]\n",
      " [4. 5. 6.]]\n"
     ]
    }
   ],
   "source": [
    "arr2 = np.array([[0.,4,1],[7,2,12]])\n",
    "print(arr2,'\\n\\n', arr)"
   ]
  },
  {
   "cell_type": "code",
   "execution_count": 216,
   "id": "fd07563f",
   "metadata": {},
   "outputs": [
    {
     "data": {
      "text/plain": [
       "array([[False,  True, False],\n",
       "       [ True, False,  True]])"
      ]
     },
     "execution_count": 216,
     "metadata": {},
     "output_type": "execute_result"
    }
   ],
   "source": [
    "arr2>arr"
   ]
  },
  {
   "cell_type": "markdown",
   "id": "742176fb",
   "metadata": {},
   "source": [
    "### 색인과 슬라이싱"
   ]
  },
  {
   "cell_type": "code",
   "execution_count": 222,
   "id": "1adb264e",
   "metadata": {},
   "outputs": [
    {
     "data": {
      "text/plain": [
       "array([0, 1, 2, 3, 4, 5, 6, 7, 8, 9])"
      ]
     },
     "execution_count": 222,
     "metadata": {},
     "output_type": "execute_result"
    }
   ],
   "source": [
    "arr = np.arange(10)\n",
    "arr"
   ]
  },
  {
   "cell_type": "code",
   "execution_count": 223,
   "id": "f18b03a5",
   "metadata": {},
   "outputs": [
    {
     "data": {
      "text/plain": [
       "5"
      ]
     },
     "execution_count": 223,
     "metadata": {},
     "output_type": "execute_result"
    }
   ],
   "source": [
    "arr[5]"
   ]
  },
  {
   "cell_type": "code",
   "execution_count": 224,
   "id": "cbb87dc4",
   "metadata": {},
   "outputs": [
    {
     "data": {
      "text/plain": [
       "array([5, 6, 7])"
      ]
     },
     "execution_count": 224,
     "metadata": {},
     "output_type": "execute_result"
    }
   ],
   "source": [
    "arr[5:8]"
   ]
  },
  {
   "cell_type": "markdown",
   "id": "0490fd01",
   "metadata": {},
   "source": [
    "> 브로드캐스팅\n",
    "> - 크기가 다른 배열 간의 연산"
   ]
  },
  {
   "cell_type": "code",
   "execution_count": 226,
   "id": "caf5924f",
   "metadata": {},
   "outputs": [
    {
     "data": {
      "text/plain": [
       "array([ 0,  1,  2,  3,  4, 12, 12, 12,  8,  9])"
      ]
     },
     "execution_count": 226,
     "metadata": {},
     "output_type": "execute_result"
    }
   ],
   "source": [
    "arr[5:8]=12\n",
    "arr"
   ]
  },
  {
   "cell_type": "markdown",
   "id": "ff6577fa",
   "metadata": {},
   "source": [
    "### 슬라이싱"
   ]
  },
  {
   "cell_type": "code",
   "execution_count": 229,
   "id": "abc7bd5b",
   "metadata": {},
   "outputs": [
    {
     "data": {
      "text/plain": [
       "array([12, 12, 12])"
      ]
     },
     "execution_count": 229,
     "metadata": {},
     "output_type": "execute_result"
    }
   ],
   "source": [
    "arr_slice = arr[5:8]\n",
    "arr_slice"
   ]
  },
  {
   "cell_type": "code",
   "execution_count": 231,
   "id": "0146ad9b",
   "metadata": {},
   "outputs": [
    {
     "data": {
      "text/plain": [
       "array([   0,    1,    2,    3,    4,   12, 1234,   12,    8,    9])"
      ]
     },
     "execution_count": 231,
     "metadata": {},
     "output_type": "execute_result"
    }
   ],
   "source": [
    "arr_slice[1]=1234\n",
    "arr #기존 배열 값도 바뀐다."
   ]
  },
  {
   "cell_type": "code",
   "execution_count": 236,
   "id": "711abcf7",
   "metadata": {},
   "outputs": [
    {
     "data": {
      "text/plain": [
       "array([ 0,  1,  2,  3,  4, 64, 64, 64,  8,  9])"
      ]
     },
     "execution_count": 236,
     "metadata": {},
     "output_type": "execute_result"
    }
   ],
   "source": [
    "arr_slice[:] = 64\n",
    "arr #기존 배열값도 바뀐다."
   ]
  },
  {
   "cell_type": "code",
   "execution_count": 237,
   "id": "5b7e98fd",
   "metadata": {},
   "outputs": [
    {
     "data": {
      "text/plain": [
       "array([ 0,  1,  2,  3,  4, 64, 64, 64,  8,  9])"
      ]
     },
     "execution_count": 237,
     "metadata": {},
     "output_type": "execute_result"
    }
   ],
   "source": [
    "arr_copy = arr[5:8].copy() #복사본을 얻는다.\n",
    "arr_copy[:] = 355\n",
    "arr #기존 배열값에 변화가 앖다."
   ]
  },
  {
   "cell_type": "markdown",
   "id": "d073f237",
   "metadata": {},
   "source": [
    "##### 다차원 배열"
   ]
  },
  {
   "cell_type": "code",
   "execution_count": 238,
   "id": "2cdea63b",
   "metadata": {},
   "outputs": [
    {
     "data": {
      "text/plain": [
       "array([[1, 2, 3],\n",
       "       [4, 5, 6],\n",
       "       [7, 8, 9]])"
      ]
     },
     "execution_count": 238,
     "metadata": {},
     "output_type": "execute_result"
    }
   ],
   "source": [
    "arr2d = np.array([[1,2,3],[4,5,6],[7,8,9]])\n",
    "arr2d"
   ]
  },
  {
   "cell_type": "code",
   "execution_count": 239,
   "id": "9b438fcf",
   "metadata": {},
   "outputs": [
    {
     "data": {
      "text/plain": [
       "array([7, 8, 9])"
      ]
     },
     "execution_count": 239,
     "metadata": {},
     "output_type": "execute_result"
    }
   ],
   "source": [
    "arr2d[2] #3행을 불러온다."
   ]
  },
  {
   "cell_type": "code",
   "execution_count": 245,
   "id": "837aea46",
   "metadata": {},
   "outputs": [
    {
     "name": "stdout",
     "output_type": "stream",
     "text": [
      "3\n",
      "3\n"
     ]
    }
   ],
   "source": [
    "print(arr2d[0][2], '\\n', arr2d[0,2] ,sep='') #1행 3열의 값을 불러온다."
   ]
  },
  {
   "cell_type": "code",
   "execution_count": 255,
   "id": "8d7634bb",
   "metadata": {},
   "outputs": [
    {
     "data": {
      "text/plain": [
       "array([[[ 1,  2,  3],\n",
       "        [ 4,  5,  6]],\n",
       "\n",
       "       [[ 7,  8,  9],\n",
       "        [10, 11, 12]]])"
      ]
     },
     "execution_count": 255,
     "metadata": {},
     "output_type": "execute_result"
    }
   ],
   "source": [
    "arr3d = np.array([[[1,2,3],[4,5,6]],[[7,8,9],[10,11,12]]])\n",
    "arr3d"
   ]
  },
  {
   "cell_type": "code",
   "execution_count": 256,
   "id": "41ae41c1",
   "metadata": {},
   "outputs": [
    {
     "data": {
      "text/plain": [
       "array([[1, 2, 3],\n",
       "       [4, 5, 6]])"
      ]
     },
     "execution_count": 256,
     "metadata": {},
     "output_type": "execute_result"
    }
   ],
   "source": [
    "arr3d[0] #1차원 값을 불러온다."
   ]
  },
  {
   "cell_type": "markdown",
   "id": "368dc5c9",
   "metadata": {},
   "source": [
    "### 불리언값으로 선택하기"
   ]
  },
  {
   "cell_type": "code",
   "execution_count": 330,
   "id": "24535c74",
   "metadata": {},
   "outputs": [
    {
     "data": {
      "text/plain": [
       "array([[0., 0., 0., 0.],\n",
       "       [1., 1., 1., 1.],\n",
       "       [2., 2., 2., 2.],\n",
       "       [3., 3., 3., 3.],\n",
       "       [4., 4., 4., 4.],\n",
       "       [5., 5., 5., 5.],\n",
       "       [6., 6., 6., 6.],\n",
       "       [7., 7., 7., 7.]])"
      ]
     },
     "execution_count": 330,
     "metadata": {},
     "output_type": "execute_result"
    }
   ],
   "source": [
    "names = np.array(['Bob','Joe','Will','Bob','Will','Joe','Joe'])\n",
    "\n",
    "data = np.empty((8,4))\n",
    "for i in range(8):\n",
    "    data[i]=i\n",
    "\n",
    "data"
   ]
  },
  {
   "cell_type": "code",
   "execution_count": 286,
   "id": "06b1cf13",
   "metadata": {},
   "outputs": [
    {
     "data": {
      "text/plain": [
       "array([ True, False, False,  True, False, False, False])"
      ]
     },
     "execution_count": 286,
     "metadata": {},
     "output_type": "execute_result"
    }
   ],
   "source": [
    "names == 'Bob'"
   ]
  },
  {
   "cell_type": "code",
   "execution_count": 287,
   "id": "a61ca64a",
   "metadata": {},
   "outputs": [
    {
     "data": {
      "text/plain": [
       "array([[1, 1, 1, 1],\n",
       "       [4, 4, 4, 4]])"
      ]
     },
     "execution_count": 287,
     "metadata": {},
     "output_type": "execute_result"
    }
   ],
   "source": [
    "data[names=='Bob'] #1행과 4행의 배열을 반환한다."
   ]
  },
  {
   "cell_type": "code",
   "execution_count": 288,
   "id": "43e97ba2",
   "metadata": {},
   "outputs": [
    {
     "data": {
      "text/plain": [
       "array([[1, 1],\n",
       "       [4, 4]])"
      ]
     },
     "execution_count": 288,
     "metadata": {},
     "output_type": "execute_result"
    }
   ],
   "source": [
    "data[names == 'Bob', 2:] #3열 이상의 열을 불러온다."
   ]
  },
  {
   "cell_type": "code",
   "execution_count": 289,
   "id": "7db80305",
   "metadata": {},
   "outputs": [
    {
     "data": {
      "text/plain": [
       "array([1, 4])"
      ]
     },
     "execution_count": 289,
     "metadata": {},
     "output_type": "execute_result"
    }
   ],
   "source": [
    "data[names == 'Bob', 3] #4열을 불러옴"
   ]
  },
  {
   "cell_type": "code",
   "execution_count": 290,
   "id": "8936fe18",
   "metadata": {},
   "outputs": [
    {
     "data": {
      "text/plain": [
       "array([[2, 2, 2, 2],\n",
       "       [3, 3, 3, 3],\n",
       "       [5, 5, 5, 5],\n",
       "       [6, 6, 6, 6],\n",
       "       [7, 7, 7, 7]])"
      ]
     },
     "execution_count": 290,
     "metadata": {},
     "output_type": "execute_result"
    }
   ],
   "source": [
    "data[names != 'Bob'] #Bob에 해당 안돼는 행"
   ]
  },
  {
   "cell_type": "code",
   "execution_count": 291,
   "id": "6322d9c9",
   "metadata": {},
   "outputs": [
    {
     "data": {
      "text/plain": [
       "array([[2, 2, 2, 2],\n",
       "       [3, 3, 3, 3],\n",
       "       [5, 5, 5, 5],\n",
       "       [6, 6, 6, 6],\n",
       "       [7, 7, 7, 7]])"
      ]
     },
     "execution_count": 291,
     "metadata": {},
     "output_type": "execute_result"
    }
   ],
   "source": [
    "cond = names == 'Bob'\n",
    "data[~cond]"
   ]
  },
  {
   "cell_type": "code",
   "execution_count": 293,
   "id": "5421ca48",
   "metadata": {},
   "outputs": [
    {
     "data": {
      "text/plain": [
       "array([[0, 0, 0, 0],\n",
       "       [0, 0, 0, 0],\n",
       "       [0, 0, 0, 0],\n",
       "       [4, 4, 4, 4],\n",
       "       [5, 5, 5, 5],\n",
       "       [6, 6, 6, 6],\n",
       "       [7, 7, 7, 7]])"
      ]
     },
     "execution_count": 293,
     "metadata": {},
     "output_type": "execute_result"
    }
   ],
   "source": [
    "data[data<4]=0\n",
    "data"
   ]
  },
  {
   "cell_type": "markdown",
   "id": "47a3be69",
   "metadata": {},
   "source": [
    "### 팬시 색인\n",
    "- 정수 배열을 사용한 색인을 설명하기 위해 Numpy에서 차용한 단어."
   ]
  },
  {
   "cell_type": "code",
   "execution_count": 333,
   "id": "cc895b64",
   "metadata": {},
   "outputs": [
    {
     "data": {
      "text/plain": [
       "array([[0, 0, 0, 0],\n",
       "       [1, 1, 1, 1],\n",
       "       [2, 2, 2, 2],\n",
       "       [3, 3, 3, 3],\n",
       "       [4, 4, 4, 4],\n",
       "       [5, 5, 5, 5],\n",
       "       [6, 6, 6, 6],\n",
       "       [7, 7, 7, 7]])"
      ]
     },
     "execution_count": 333,
     "metadata": {},
     "output_type": "execute_result"
    }
   ],
   "source": [
    "arr = np.empty((8,4), dtype=int)\n",
    "for i in range(8):\n",
    "    arr[i]=i\n",
    "arr"
   ]
  },
  {
   "cell_type": "code",
   "execution_count": 334,
   "id": "5bd8fad2",
   "metadata": {},
   "outputs": [
    {
     "data": {
      "text/plain": [
       "array([[5, 5, 5, 5],\n",
       "       [1, 1, 1, 1],\n",
       "       [3, 3, 3, 3],\n",
       "       [0, 0, 0, 0]])"
      ]
     },
     "execution_count": 334,
     "metadata": {},
     "output_type": "execute_result"
    }
   ],
   "source": [
    "arr[[5,1,3,0]] #특정한 순서로 행을 선택한다."
   ]
  },
  {
   "cell_type": "code",
   "execution_count": 335,
   "id": "692352c2",
   "metadata": {
    "scrolled": true
   },
   "outputs": [
    {
     "data": {
      "text/plain": [
       "array([[5, 5, 5, 5],\n",
       "       [7, 7, 7, 7],\n",
       "       [1, 1, 1, 1]])"
      ]
     },
     "execution_count": 335,
     "metadata": {},
     "output_type": "execute_result"
    }
   ],
   "source": [
    "arr[[-3,-1,-7]] #색인으로 음수를 사용하면 끝에서 부터 선택한다."
   ]
  },
  {
   "cell_type": "code",
   "execution_count": 341,
   "id": "78c4e212",
   "metadata": {
    "scrolled": true
   },
   "outputs": [
    {
     "data": {
      "text/plain": [
       "array([[ 0,  1,  2,  3],\n",
       "       [ 4,  5,  6,  7],\n",
       "       [ 8,  9, 10, 11],\n",
       "       [12, 13, 14, 15],\n",
       "       [16, 17, 18, 19],\n",
       "       [20, 21, 22, 23],\n",
       "       [24, 25, 26, 27],\n",
       "       [28, 29, 30, 31]])"
      ]
     },
     "execution_count": 341,
     "metadata": {},
     "output_type": "execute_result"
    }
   ],
   "source": [
    "arr = np.arange(32).reshape((8,4))\n",
    "arr"
   ]
  },
  {
   "cell_type": "code",
   "execution_count": 342,
   "id": "e0c85dae",
   "metadata": {},
   "outputs": [
    {
     "data": {
      "text/plain": [
       "array([ 4, 23, 29, 10])"
      ]
     },
     "execution_count": 342,
     "metadata": {},
     "output_type": "execute_result"
    }
   ],
   "source": [
    "arr[[1,5,7,2], [0,3,1,2]] #[1,5], [5,3], [7,2], [2,2] 값"
   ]
  },
  {
   "cell_type": "code",
   "execution_count": 343,
   "id": "08520b25",
   "metadata": {},
   "outputs": [
    {
     "data": {
      "text/plain": [
       "array([[ 4,  7,  5,  6],\n",
       "       [20, 23, 21, 22],\n",
       "       [28, 31, 29, 30],\n",
       "       [ 8, 11,  9, 10]])"
      ]
     },
     "execution_count": 343,
     "metadata": {},
     "output_type": "execute_result"
    }
   ],
   "source": [
    "arr[[1,5,7,2]][:,[0,3,1,2]] # 1,5,7,2 행을 불러오고 다시 0,3,1,2순으로 열을 불러온다"
   ]
  },
  {
   "cell_type": "markdown",
   "id": "2ae2eb24",
   "metadata": {},
   "source": [
    "### 배열 전치와 축 바꾸기\n",
    "- 배열 전치는 데이터를 복사하지 않고 데이터의 모양이 바뀐 뷰를 반화한다."
   ]
  },
  {
   "cell_type": "code",
   "execution_count": 365,
   "id": "eddb6625",
   "metadata": {},
   "outputs": [
    {
     "data": {
      "text/plain": [
       "array([[ 0,  1,  2,  3,  4],\n",
       "       [ 5,  6,  7,  8,  9],\n",
       "       [10, 11, 12, 13, 14]])"
      ]
     },
     "execution_count": 365,
     "metadata": {},
     "output_type": "execute_result"
    }
   ],
   "source": [
    "arr = np.arange(15).reshape((3,5))\n",
    "arr"
   ]
  },
  {
   "cell_type": "code",
   "execution_count": 366,
   "id": "302e570b",
   "metadata": {},
   "outputs": [
    {
     "data": {
      "text/plain": [
       "array([[ 0,  5, 10],\n",
       "       [ 1,  6, 11],\n",
       "       [ 2,  7, 12],\n",
       "       [ 3,  8, 13],\n",
       "       [ 4,  9, 14]])"
      ]
     },
     "execution_count": 366,
     "metadata": {},
     "output_type": "execute_result"
    }
   ],
   "source": [
    "arr.T"
   ]
  },
  {
   "cell_type": "code",
   "execution_count": 367,
   "id": "737e3af4",
   "metadata": {},
   "outputs": [
    {
     "data": {
      "text/plain": [
       "array([[125, 140, 155, 170, 185],\n",
       "       [140, 158, 176, 194, 212],\n",
       "       [155, 176, 197, 218, 239],\n",
       "       [170, 194, 218, 242, 266],\n",
       "       [185, 212, 239, 266, 293]])"
      ]
     },
     "execution_count": 367,
     "metadata": {},
     "output_type": "execute_result"
    }
   ],
   "source": [
    "np.dot(arr.T, arr) #np.dot 행렬의 내적을 구할 수 있다."
   ]
  },
  {
   "cell_type": "code",
   "execution_count": 368,
   "id": "465eb7f0",
   "metadata": {},
   "outputs": [
    {
     "data": {
      "text/plain": [
       "array([[ 0,  1,  2,  3,  4],\n",
       "       [ 5,  6,  7,  8,  9],\n",
       "       [10, 11, 12, 13, 14]])"
      ]
     },
     "execution_count": 368,
     "metadata": {},
     "output_type": "execute_result"
    }
   ],
   "source": [
    "arr.transpose((0,1)) #축 번호를 받아서 치환한다."
   ]
  },
  {
   "cell_type": "code",
   "execution_count": 369,
   "id": "25035cde",
   "metadata": {},
   "outputs": [
    {
     "data": {
      "text/plain": [
       "array([[ 0,  5, 10],\n",
       "       [ 1,  6, 11],\n",
       "       [ 2,  7, 12],\n",
       "       [ 3,  8, 13],\n",
       "       [ 4,  9, 14]])"
      ]
     },
     "execution_count": 369,
     "metadata": {},
     "output_type": "execute_result"
    }
   ],
   "source": [
    "arr.transpose((1,0))"
   ]
  },
  {
   "cell_type": "code",
   "execution_count": 389,
   "id": "6c9aad20",
   "metadata": {},
   "outputs": [
    {
     "data": {
      "text/plain": [
       "array([[[ 0,  1,  2,  3],\n",
       "        [ 4,  5,  6,  7],\n",
       "        [ 8,  9, 10, 11]],\n",
       "\n",
       "       [[12, 13, 14, 15],\n",
       "        [16, 17, 18, 19],\n",
       "        [20, 21, 22, 23]]])"
      ]
     },
     "execution_count": 389,
     "metadata": {},
     "output_type": "execute_result"
    }
   ],
   "source": [
    "arr = np.arange(24).reshape((2,3,4))\n",
    "arr"
   ]
  },
  {
   "cell_type": "code",
   "execution_count": 390,
   "id": "56bc626e",
   "metadata": {
    "scrolled": true
   },
   "outputs": [
    {
     "data": {
      "text/plain": [
       "array([[[ 0,  1,  2,  3],\n",
       "        [12, 13, 14, 15]],\n",
       "\n",
       "       [[ 4,  5,  6,  7],\n",
       "        [16, 17, 18, 19]],\n",
       "\n",
       "       [[ 8,  9, 10, 11],\n",
       "        [20, 21, 22, 23]]])"
      ]
     },
     "execution_count": 390,
     "metadata": {},
     "output_type": "execute_result"
    }
   ],
   "source": [
    "arr.transpose((1,0,2)) #(2,3,4) => (3,0,2) 축 번호를 받아서 치환한다."
   ]
  },
  {
   "cell_type": "code",
   "execution_count": 395,
   "id": "98684ef5",
   "metadata": {},
   "outputs": [
    {
     "data": {
      "text/plain": [
       "array([[[ 0,  1,  2,  3],\n",
       "        [12, 13, 14, 15]],\n",
       "\n",
       "       [[ 4,  5,  6,  7],\n",
       "        [16, 17, 18, 19]],\n",
       "\n",
       "       [[ 8,  9, 10, 11],\n",
       "        [20, 21, 22, 23]]])"
      ]
     },
     "execution_count": 395,
     "metadata": {},
     "output_type": "execute_result"
    }
   ],
   "source": [
    "arr.swapaxes(1,0)  # 두 개의 축 번호를 받아서 배열을 바꾼다."
   ]
  },
  {
   "cell_type": "markdown",
   "id": "2e8c5e34",
   "metadata": {},
   "source": [
    "### 유니버설 함수\n",
    "- 배열의 각 원소를 빠르게 처리하는 함수."
   ]
  },
  {
   "cell_type": "markdown",
   "id": "4f3df1c6",
   "metadata": {},
   "source": [
    "#### 단항 유니버설 함수"
   ]
  },
  {
   "cell_type": "code",
   "execution_count": 23,
   "id": "5613a550",
   "metadata": {},
   "outputs": [
    {
     "data": {
      "text/plain": [
       "array([-0.74646006,  0.03208738,  0.98456844, -0.01097796,  0.29521581,\n",
       "        0.29535977, -1.45779349, -2.3846935 , -0.64714003,  0.25629999])"
      ]
     },
     "execution_count": 23,
     "metadata": {},
     "output_type": "execute_result"
    }
   ],
   "source": [
    "arr = np.random.randn(10)\n",
    "arr"
   ]
  },
  {
   "cell_type": "code",
   "execution_count": 25,
   "id": "4fb3c8ee",
   "metadata": {},
   "outputs": [
    {
     "data": {
      "text/plain": [
       "array([0, 1, 2, 3, 4, 5, 6, 7, 8, 9])"
      ]
     },
     "execution_count": 25,
     "metadata": {},
     "output_type": "execute_result"
    }
   ],
   "source": [
    "arr2 = np.arange(10)\n",
    "arr2"
   ]
  },
  {
   "cell_type": "markdown",
   "id": "ca2678c3",
   "metadata": {},
   "source": [
    "abs, fabs 각 원소의 절대값을 구한다. 복소수가 아닌 경우에는 빠른 연산을 위해 fabs를 사용한다."
   ]
  },
  {
   "cell_type": "code",
   "execution_count": 39,
   "id": "6f30f307",
   "metadata": {},
   "outputs": [
    {
     "data": {
      "text/plain": [
       "array([0.74646006, 0.03208738, 0.98456844, 0.01097796, 0.29521581,\n",
       "       0.29535977, 1.45779349, 2.3846935 , 0.64714003, 0.25629999])"
      ]
     },
     "execution_count": 39,
     "metadata": {},
     "output_type": "execute_result"
    }
   ],
   "source": [
    "np.abs(arr)\n",
    "np.fabs(arr) "
   ]
  },
  {
   "cell_type": "markdown",
   "id": "eca76630",
   "metadata": {},
   "source": [
    "sqrt 각 원소의 제곱근을 계산한다. arr**0.5와 동일하다."
   ]
  },
  {
   "cell_type": "code",
   "execution_count": 24,
   "id": "5a1c242e",
   "metadata": {},
   "outputs": [
    {
     "data": {
      "text/plain": [
       "array([0.        , 1.        , 1.41421356, 1.73205081, 2.        ,\n",
       "       2.23606798, 2.44948974, 2.64575131, 2.82842712, 3.        ])"
      ]
     },
     "execution_count": 24,
     "metadata": {},
     "output_type": "execute_result"
    }
   ],
   "source": [
    "np.sqrt(arr2) "
   ]
  },
  {
   "cell_type": "markdown",
   "id": "c877d918",
   "metadata": {},
   "source": [
    "square 각 원소의 제곱을 계산한다. arr**2와 동일하다."
   ]
  },
  {
   "cell_type": "code",
   "execution_count": 27,
   "id": "ea5c47d4",
   "metadata": {},
   "outputs": [
    {
     "data": {
      "text/plain": [
       "array([ 0,  1,  4,  9, 16, 25, 36, 49, 64, 81], dtype=int32)"
      ]
     },
     "execution_count": 27,
     "metadata": {},
     "output_type": "execute_result"
    }
   ],
   "source": [
    "np.square(arr2) "
   ]
  },
  {
   "cell_type": "markdown",
   "id": "5bfddbb8",
   "metadata": {},
   "source": [
    "exp 각 원소에서 지수 $e^{x}$을 계산한다."
   ]
  },
  {
   "cell_type": "code",
   "execution_count": 29,
   "id": "cc82f296",
   "metadata": {},
   "outputs": [
    {
     "data": {
      "text/plain": [
       "array([1.00000000e+00, 2.71828183e+00, 7.38905610e+00, 2.00855369e+01,\n",
       "       5.45981500e+01, 1.48413159e+02, 4.03428793e+02, 1.09663316e+03,\n",
       "       2.98095799e+03, 8.10308393e+03])"
      ]
     },
     "execution_count": 29,
     "metadata": {},
     "output_type": "execute_result"
    }
   ],
   "source": [
    "np.exp(arr2) "
   ]
  },
  {
   "cell_type": "markdown",
   "id": "80757334",
   "metadata": {},
   "source": [
    "log, log10, log2, log1p 각각 자연로그, 로그10, 로그2, 로그(1+x)를 계산한다."
   ]
  },
  {
   "cell_type": "code",
   "execution_count": 34,
   "id": "db24d4f6",
   "metadata": {},
   "outputs": [
    {
     "name": "stderr",
     "output_type": "stream",
     "text": [
      "C:\\Users\\mangg\\AppData\\Local\\Temp/ipykernel_3928/2430268246.py:1: RuntimeWarning: divide by zero encountered in log\n",
      "  np.log(arr2)\n"
     ]
    },
    {
     "data": {
      "text/plain": [
       "array([      -inf, 0.        , 0.69314718, 1.09861229, 1.38629436,\n",
       "       1.60943791, 1.79175947, 1.94591015, 2.07944154, 2.19722458])"
      ]
     },
     "execution_count": 34,
     "metadata": {},
     "output_type": "execute_result"
    }
   ],
   "source": [
    "np.log(arr2)"
   ]
  },
  {
   "cell_type": "markdown",
   "id": "7b367bb1",
   "metadata": {},
   "source": [
    "sign 각 원소의 부호를 계산한다. 1, 0 ,-1"
   ]
  },
  {
   "cell_type": "code",
   "execution_count": 35,
   "id": "c57bf58a",
   "metadata": {},
   "outputs": [
    {
     "data": {
      "text/plain": [
       "array([-1.,  1.,  1., -1.,  1.,  1., -1., -1., -1.,  1.])"
      ]
     },
     "execution_count": 35,
     "metadata": {},
     "output_type": "execute_result"
    }
   ],
   "source": [
    "np.sign(arr)"
   ]
  },
  {
   "cell_type": "markdown",
   "id": "57c8caf2",
   "metadata": {},
   "source": [
    "ceil 각 원소의 소수자리를 올린다."
   ]
  },
  {
   "cell_type": "code",
   "execution_count": 36,
   "id": "bd94a250",
   "metadata": {},
   "outputs": [
    {
     "data": {
      "text/plain": [
       "array([-0.,  1.,  1., -0.,  1.,  1., -1., -2., -0.,  1.])"
      ]
     },
     "execution_count": 36,
     "metadata": {},
     "output_type": "execute_result"
    }
   ],
   "source": [
    "np.ceil(arr)"
   ]
  },
  {
   "cell_type": "markdown",
   "id": "135f5b54",
   "metadata": {},
   "source": [
    "floor 각 원소의 소수자리를 내린다."
   ]
  },
  {
   "cell_type": "code",
   "execution_count": 38,
   "id": "63b596ba",
   "metadata": {},
   "outputs": [
    {
     "data": {
      "text/plain": [
       "array([-1.,  0.,  0., -1.,  0.,  0., -2., -3., -1.,  0.])"
      ]
     },
     "execution_count": 38,
     "metadata": {},
     "output_type": "execute_result"
    }
   ],
   "source": [
    "np.floor(arr)"
   ]
  },
  {
   "cell_type": "markdown",
   "id": "aa477373",
   "metadata": {},
   "source": [
    "rint 각원소의 소수자리를 반올림한다."
   ]
  },
  {
   "cell_type": "code",
   "execution_count": 40,
   "id": "d14ee331",
   "metadata": {},
   "outputs": [
    {
     "data": {
      "text/plain": [
       "array([-1.,  0.,  1., -0.,  0.,  0., -1., -2., -1.,  0.])"
      ]
     },
     "execution_count": 40,
     "metadata": {},
     "output_type": "execute_result"
    }
   ],
   "source": [
    "np.rint(arr)"
   ]
  },
  {
   "cell_type": "markdown",
   "id": "1e95040f",
   "metadata": {},
   "source": [
    "modf 각 원소의 몫과 나머지를 각각의 배열로 반환한다."
   ]
  },
  {
   "cell_type": "code",
   "execution_count": 42,
   "id": "c29856df",
   "metadata": {},
   "outputs": [
    {
     "data": {
      "text/plain": [
       "(array([-0.74646006,  0.03208738,  0.98456844, -0.01097796,  0.29521581,\n",
       "         0.29535977, -0.45779349, -0.3846935 , -0.64714003,  0.25629999]),\n",
       " array([-0.,  0.,  0., -0.,  0.,  0., -1., -2., -0.,  0.]))"
      ]
     },
     "execution_count": 42,
     "metadata": {},
     "output_type": "execute_result"
    }
   ],
   "source": [
    "np.modf(arr)"
   ]
  },
  {
   "cell_type": "markdown",
   "id": "546e9e36",
   "metadata": {},
   "source": [
    "isnan 각 원소가 숫자가 아닌지(NaN)를 나타낸느 불리언 배열을 반환한다."
   ]
  },
  {
   "cell_type": "code",
   "execution_count": 47,
   "id": "3f261aed",
   "metadata": {},
   "outputs": [
    {
     "data": {
      "text/plain": [
       "array([False, False, False,  True, False, False, False, False, False,\n",
       "       False])"
      ]
     },
     "execution_count": 47,
     "metadata": {},
     "output_type": "execute_result"
    }
   ],
   "source": [
    "arr[3]= np.nan\n",
    "np.isnan(arr)"
   ]
  },
  {
   "cell_type": "markdown",
   "id": "8869d755",
   "metadata": {},
   "source": [
    "isfinite, isinf 각각 배열의 각 원소가 유한한지 무한한지를 나타내는 불리언 배열을 반환한다."
   ]
  },
  {
   "cell_type": "code",
   "execution_count": 49,
   "id": "41269012",
   "metadata": {},
   "outputs": [
    {
     "data": {
      "text/plain": [
       "array([ True,  True, False, False,  True,  True,  True,  True,  True,\n",
       "        True])"
      ]
     },
     "execution_count": 49,
     "metadata": {},
     "output_type": "execute_result"
    }
   ],
   "source": [
    "arr[2]=np.inf\n",
    "np.isfinite(arr)"
   ]
  },
  {
   "cell_type": "markdown",
   "id": "dab0bb35",
   "metadata": {},
   "source": [
    "cos, coh, sin, sinh, tan, tanh 일반 삼각함수와 쌍곡삼각함수"
   ]
  },
  {
   "cell_type": "code",
   "execution_count": 52,
   "id": "9d0b525f",
   "metadata": {},
   "outputs": [
    {
     "data": {
      "text/plain": [
       "array([ 1.        ,  0.54030231, -0.41614684, -0.9899925 , -0.65364362,\n",
       "        0.28366219,  0.96017029,  0.75390225, -0.14550003, -0.91113026])"
      ]
     },
     "execution_count": 52,
     "metadata": {},
     "output_type": "execute_result"
    }
   ],
   "source": [
    "np.cos(arr2)"
   ]
  },
  {
   "cell_type": "markdown",
   "id": "2c6487e0",
   "metadata": {},
   "source": [
    "arccos, arccosh, arcsin, arcsinh, arctan, arctanh 역삼각함수"
   ]
  },
  {
   "cell_type": "code",
   "execution_count": 62,
   "id": "62aa4c7e",
   "metadata": {},
   "outputs": [
    {
     "data": {
      "text/plain": [
       "array([0.        , 0.88137359, 1.44363548, 1.81844646, 2.09471255,\n",
       "       2.31243834, 2.49177985, 2.64412076, 2.77647228, 2.89344399])"
      ]
     },
     "execution_count": 62,
     "metadata": {},
     "output_type": "execute_result"
    }
   ],
   "source": [
    "np.arcsinh(arr2)"
   ]
  },
  {
   "cell_type": "markdown",
   "id": "5f5464c8",
   "metadata": {},
   "source": [
    "logical_not 각원소의 논리 부정 값을 계산한다. ~arr과 동일하다."
   ]
  },
  {
   "cell_type": "code",
   "execution_count": 70,
   "id": "eeede576",
   "metadata": {},
   "outputs": [],
   "source": [
    "arr3 = [0,1,1,0,0]"
   ]
  },
  {
   "cell_type": "code",
   "execution_count": 74,
   "id": "0aed4c75",
   "metadata": {
    "scrolled": true
   },
   "outputs": [
    {
     "data": {
      "text/plain": [
       "array([ True, False, False,  True,  True])"
      ]
     },
     "execution_count": 74,
     "metadata": {},
     "output_type": "execute_result"
    }
   ],
   "source": [
    "np.logical_not(arr3)"
   ]
  },
  {
   "cell_type": "markdown",
   "id": "4d220941",
   "metadata": {},
   "source": [
    "### 이항 유니버설 함수"
   ]
  },
  {
   "cell_type": "code",
   "execution_count": 79,
   "id": "129f4796",
   "metadata": {},
   "outputs": [
    {
     "data": {
      "text/plain": [
       "array([0, 2, 4, 6, 8])"
      ]
     },
     "execution_count": 79,
     "metadata": {},
     "output_type": "execute_result"
    }
   ],
   "source": [
    "arr1 = np.arange(0,10,2)\n",
    "arr1"
   ]
  },
  {
   "cell_type": "code",
   "execution_count": 81,
   "id": "478df7eb",
   "metadata": {},
   "outputs": [
    {
     "data": {
      "text/plain": [
       "array([1, 3, 5, 7, 9])"
      ]
     },
     "execution_count": 81,
     "metadata": {},
     "output_type": "execute_result"
    }
   ],
   "source": [
    "arr2 = np.arange(1,11,2)\n",
    "arr2"
   ]
  },
  {
   "cell_type": "markdown",
   "id": "b74c24aa",
   "metadata": {},
   "source": [
    "add 두 배열에서 같은 위치의 원소끼리 더한다."
   ]
  },
  {
   "cell_type": "code",
   "execution_count": 82,
   "id": "a8fef530",
   "metadata": {},
   "outputs": [
    {
     "data": {
      "text/plain": [
       "array([ 1,  5,  9, 13, 17])"
      ]
     },
     "execution_count": 82,
     "metadata": {},
     "output_type": "execute_result"
    }
   ],
   "source": [
    "np.add(arr1,arr2)"
   ]
  },
  {
   "cell_type": "markdown",
   "id": "b4db8610",
   "metadata": {},
   "source": [
    "subtract 원소를 뺀다."
   ]
  },
  {
   "cell_type": "code",
   "execution_count": 83,
   "id": "c49b9fb2",
   "metadata": {},
   "outputs": [
    {
     "data": {
      "text/plain": [
       "array([-1, -1, -1, -1, -1])"
      ]
     },
     "execution_count": 83,
     "metadata": {},
     "output_type": "execute_result"
    }
   ],
   "source": [
    "np.subtract(arr1,arr2)"
   ]
  },
  {
   "cell_type": "markdown",
   "id": "4e7b0767",
   "metadata": {},
   "source": [
    "multiply 배열의 원소끼리 곱한다."
   ]
  },
  {
   "cell_type": "code",
   "execution_count": 84,
   "id": "f6efa495",
   "metadata": {},
   "outputs": [
    {
     "data": {
      "text/plain": [
       "array([ 0,  6, 20, 42, 72])"
      ]
     },
     "execution_count": 84,
     "metadata": {},
     "output_type": "execute_result"
    }
   ],
   "source": [
    "np.multiply(arr1,arr2)"
   ]
  },
  {
   "cell_type": "markdown",
   "id": "72a9ce0c",
   "metadata": {},
   "source": [
    "divide, floor_divide 원소를 나눈다. floor_divide는 몫만 취한다."
   ]
  },
  {
   "cell_type": "code",
   "execution_count": 89,
   "id": "53a29544",
   "metadata": {},
   "outputs": [
    {
     "data": {
      "text/plain": [
       "array([0.        , 0.66666667, 0.8       , 0.85714286, 0.88888889])"
      ]
     },
     "execution_count": 89,
     "metadata": {},
     "output_type": "execute_result"
    }
   ],
   "source": [
    "np.divide(arr1,arr2)"
   ]
  },
  {
   "cell_type": "code",
   "execution_count": 90,
   "id": "9d30e181",
   "metadata": {},
   "outputs": [
    {
     "data": {
      "text/plain": [
       "array([0, 0, 0, 0, 0], dtype=int32)"
      ]
     },
     "execution_count": 90,
     "metadata": {},
     "output_type": "execute_result"
    }
   ],
   "source": [
    "np.floor_divide(arr1,arr2)"
   ]
  },
  {
   "cell_type": "markdown",
   "id": "0f9922aa",
   "metadata": {},
   "source": [
    "power 첫 배열의 원소를 두 번째 배열의 원소만큼 제곱한다."
   ]
  },
  {
   "cell_type": "code",
   "execution_count": 91,
   "id": "57038861",
   "metadata": {},
   "outputs": [
    {
     "data": {
      "text/plain": [
       "array([        0,         8,      1024,    279936, 134217728], dtype=int32)"
      ]
     },
     "execution_count": 91,
     "metadata": {},
     "output_type": "execute_result"
    }
   ],
   "source": [
    "np.power(arr1, arr2)"
   ]
  },
  {
   "cell_type": "markdown",
   "id": "fed6153a",
   "metadata": {},
   "source": [
    "maximum, fmax 각 배열의 두 원소 중 큰 값을 반환한다. fmax는 NaN값을 무시한다."
   ]
  },
  {
   "cell_type": "code",
   "execution_count": 92,
   "id": "d6d82c87",
   "metadata": {},
   "outputs": [
    {
     "data": {
      "text/plain": [
       "array([1, 3, 5, 7, 9])"
      ]
     },
     "execution_count": 92,
     "metadata": {},
     "output_type": "execute_result"
    }
   ],
   "source": [
    "np.maximum(arr1,arr2)"
   ]
  },
  {
   "cell_type": "markdown",
   "id": "09d3b036",
   "metadata": {},
   "source": [
    "minimum, fmin 작은 값 반환한다."
   ]
  },
  {
   "cell_type": "code",
   "execution_count": 93,
   "id": "e1b1d952",
   "metadata": {},
   "outputs": [
    {
     "data": {
      "text/plain": [
       "array([0, 2, 4, 6, 8])"
      ]
     },
     "execution_count": 93,
     "metadata": {},
     "output_type": "execute_result"
    }
   ],
   "source": [
    "np.minimum(arr1,arr2)"
   ]
  },
  {
   "cell_type": "markdown",
   "id": "ce33003e",
   "metadata": {},
   "source": [
    "mod 나머지를 구한다."
   ]
  },
  {
   "cell_type": "code",
   "execution_count": 95,
   "id": "793cdfdf",
   "metadata": {},
   "outputs": [
    {
     "data": {
      "text/plain": [
       "array([0, 2, 4, 6, 8], dtype=int32)"
      ]
     },
     "execution_count": 95,
     "metadata": {},
     "output_type": "execute_result"
    }
   ],
   "source": [
    "np.mod(arr1,arr2)"
   ]
  },
  {
   "cell_type": "markdown",
   "id": "3b49a1d2",
   "metadata": {},
   "source": [
    "copysign 첫 번쨰 배열의 원소의 기호를 두 번째 배열의 원소의 기호로 바꾼다."
   ]
  },
  {
   "cell_type": "code",
   "execution_count": 98,
   "id": "afbf997e",
   "metadata": {},
   "outputs": [
    {
     "data": {
      "text/plain": [
       "array([1., 3., 5., 7., 9.])"
      ]
     },
     "execution_count": 98,
     "metadata": {},
     "output_type": "execute_result"
    }
   ],
   "source": [
    "np.copysign(~arr1,arr2)"
   ]
  },
  {
   "cell_type": "markdown",
   "id": "b2d9b35d",
   "metadata": {},
   "source": [
    "greater, greater_equal, less, less_equal, equal, not_equal >, >=, <, <=, ==, != 비교 연산을 불리언 배열로 반환한다."
   ]
  },
  {
   "cell_type": "code",
   "execution_count": 99,
   "id": "3890668a",
   "metadata": {},
   "outputs": [
    {
     "data": {
      "text/plain": [
       "array([False, False, False, False, False])"
      ]
     },
     "execution_count": 99,
     "metadata": {},
     "output_type": "execute_result"
    }
   ],
   "source": [
    "np.greater(arr1,arr2)"
   ]
  },
  {
   "cell_type": "markdown",
   "id": "1296fd21",
   "metadata": {},
   "source": [
    "logical_and, logical_or, logical_xor &, |, ^ 논리 연산 결과를 반환한다."
   ]
  },
  {
   "cell_type": "code",
   "execution_count": 100,
   "id": "a2546709",
   "metadata": {},
   "outputs": [
    {
     "data": {
      "text/plain": [
       "array([False,  True,  True,  True,  True])"
      ]
     },
     "execution_count": 100,
     "metadata": {},
     "output_type": "execute_result"
    }
   ],
   "source": [
    "np.logical_and(arr1,arr2)"
   ]
  },
  {
   "cell_type": "markdown",
   "id": "4731976c",
   "metadata": {},
   "source": [
    "### 배열지향 프로그래밍"
   ]
  },
  {
   "cell_type": "code",
   "execution_count": 104,
   "id": "6231a4f2",
   "metadata": {},
   "outputs": [
    {
     "data": {
      "text/plain": [
       "array([[-5.  , -5.  , -5.  , ..., -5.  , -5.  , -5.  ],\n",
       "       [-4.99, -4.99, -4.99, ..., -4.99, -4.99, -4.99],\n",
       "       [-4.98, -4.98, -4.98, ..., -4.98, -4.98, -4.98],\n",
       "       ...,\n",
       "       [ 4.97,  4.97,  4.97, ...,  4.97,  4.97,  4.97],\n",
       "       [ 4.98,  4.98,  4.98, ...,  4.98,  4.98,  4.98],\n",
       "       [ 4.99,  4.99,  4.99, ...,  4.99,  4.99,  4.99]])"
      ]
     },
     "execution_count": 104,
     "metadata": {},
     "output_type": "execute_result"
    }
   ],
   "source": [
    "points = np.arange(-5,5,0.01)\n",
    "xs, ys = np.meshgrid(points, points)\n",
    "ys"
   ]
  },
  {
   "cell_type": "code",
   "execution_count": 117,
   "id": "20c91bc9",
   "metadata": {},
   "outputs": [
    {
     "data": {
      "text/plain": [
       "array([[7.07106781, 7.06400028, 7.05693985, ..., 7.04988652, 7.05693985,\n",
       "        7.06400028],\n",
       "       [7.06400028, 7.05692568, 7.04985815, ..., 7.04279774, 7.04985815,\n",
       "        7.05692568],\n",
       "       [7.05693985, 7.04985815, 7.04278354, ..., 7.03571603, 7.04278354,\n",
       "        7.04985815],\n",
       "       ...,\n",
       "       [7.04988652, 7.04279774, 7.03571603, ..., 7.0286414 , 7.03571603,\n",
       "        7.04279774],\n",
       "       [7.05693985, 7.04985815, 7.04278354, ..., 7.03571603, 7.04278354,\n",
       "        7.04985815],\n",
       "       [7.06400028, 7.05692568, 7.04985815, ..., 7.04279774, 7.04985815,\n",
       "        7.05692568]])"
      ]
     },
     "execution_count": 117,
     "metadata": {},
     "output_type": "execute_result"
    }
   ],
   "source": [
    "z"
   ]
  },
  {
   "cell_type": "code",
   "execution_count": 108,
   "id": "fa7e0651",
   "metadata": {},
   "outputs": [],
   "source": [
    "import matplotlib.pyplot as plt"
   ]
  },
  {
   "cell_type": "code",
   "execution_count": 109,
   "id": "e7073f48",
   "metadata": {},
   "outputs": [
    {
     "data": {
      "text/plain": [
       "<matplotlib.colorbar.Colorbar at 0x195155d0160>"
      ]
     },
     "execution_count": 109,
     "metadata": {},
     "output_type": "execute_result"
    },
    {
     "data": {
      "image/png": "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\n",
      "text/plain": [
       "<Figure size 432x288 with 2 Axes>"
      ]
     },
     "metadata": {
      "needs_background": "light"
     },
     "output_type": "display_data"
    }
   ],
   "source": [
    "plt.imshow(z, cmap=plt.cm.gray)\n",
    "plt.colorbar()\n",
    "plt.title(\"Image plot of %\\sqrt{x^2 + y^2}$ for a grid of values\")"
   ]
  },
  {
   "cell_type": "markdown",
   "id": "99ba71ce",
   "metadata": {},
   "source": [
    "### 배열 연산으로 조건절 표현하기"
   ]
  },
  {
   "cell_type": "code",
   "execution_count": 122,
   "id": "0ecbf3b1",
   "metadata": {},
   "outputs": [],
   "source": [
    "xarr = np.arange(1.1,1.6,0.1)\n",
    "yarr = np.arange(2.1,2.6,0.1)\n",
    "cond = np.array([True, False, True, True, False])"
   ]
  },
  {
   "cell_type": "code",
   "execution_count": 124,
   "id": "a1896373",
   "metadata": {},
   "outputs": [
    {
     "data": {
      "text/plain": [
       "[1.1, 2.2, 1.3000000000000003, 1.4000000000000004, 2.5000000000000004]"
      ]
     },
     "execution_count": 124,
     "metadata": {},
     "output_type": "execute_result"
    }
   ],
   "source": [
    "result = [(x if c else y)\n",
    "         for x, y, c, in zip(xarr, yarr, cond)] #리스트 표기법 큰 배열을 빠르게 처리하지 못한다. 다차원 배열에서도 사용못함.\n",
    "result"
   ]
  },
  {
   "cell_type": "code",
   "execution_count": 125,
   "id": "82f15c70",
   "metadata": {},
   "outputs": [
    {
     "data": {
      "text/plain": [
       "array([1.1, 2.2, 1.3, 1.4, 2.5])"
      ]
     },
     "execution_count": 125,
     "metadata": {},
     "output_type": "execute_result"
    }
   ],
   "source": [
    "result = np.where(cond, xarr, yarr)\n",
    "result"
   ]
  },
  {
   "cell_type": "code",
   "execution_count": 126,
   "id": "ad94bbe9",
   "metadata": {},
   "outputs": [
    {
     "data": {
      "text/plain": [
       "array([[ 0.69189025,  1.06452259,  1.32648479,  1.6496055 ],\n",
       "       [ 1.54128827,  0.71717625,  0.28500225, -1.12516022],\n",
       "       [ 0.25257089,  0.56693908,  2.20195204,  1.15347972],\n",
       "       [ 0.38568075, -1.28005659,  0.02266239, -0.15691022]])"
      ]
     },
     "execution_count": 126,
     "metadata": {},
     "output_type": "execute_result"
    }
   ],
   "source": [
    "arr = np.random.randn(4,4)\n",
    "arr"
   ]
  },
  {
   "cell_type": "code",
   "execution_count": 127,
   "id": "4bfef301",
   "metadata": {},
   "outputs": [
    {
     "data": {
      "text/plain": [
       "array([[ 2,  2,  2,  2],\n",
       "       [ 2,  2,  2, -2],\n",
       "       [ 2,  2,  2,  2],\n",
       "       [ 2, -2,  2, -2]])"
      ]
     },
     "execution_count": 127,
     "metadata": {},
     "output_type": "execute_result"
    }
   ],
   "source": [
    "np.where(arr>0, 2, -2) #where로 넘기는 배열은 같은 크기 배열이거나 스칼라값"
   ]
  },
  {
   "cell_type": "markdown",
   "id": "ee3e1992",
   "metadata": {},
   "source": [
    "### 수학 메서드와 통계 메서드"
   ]
  },
  {
   "cell_type": "code",
   "execution_count": 148,
   "id": "20324705",
   "metadata": {},
   "outputs": [
    {
     "data": {
      "text/plain": [
       "array([[0., 0., 0., 0.],\n",
       "       [1., 1., 1., 1.],\n",
       "       [2., 2., 2., 2.],\n",
       "       [3., 3., 3., 3.],\n",
       "       [4., 4., 4., 4.]])"
      ]
     },
     "execution_count": 148,
     "metadata": {},
     "output_type": "execute_result"
    }
   ],
   "source": [
    "arr= np.empty((5,4))\n",
    "for i in range(5):\n",
    "    arr[i]=i\n",
    "arr"
   ]
  },
  {
   "cell_type": "markdown",
   "id": "112badc8",
   "metadata": {},
   "source": [
    "mean 산술평균을 구한다."
   ]
  },
  {
   "cell_type": "code",
   "execution_count": 149,
   "id": "4892c17b",
   "metadata": {},
   "outputs": [
    {
     "data": {
      "text/plain": [
       "2.0"
      ]
     },
     "execution_count": 149,
     "metadata": {},
     "output_type": "execute_result"
    }
   ],
   "source": [
    "arr.mean()\n",
    "np.mean(arr)"
   ]
  },
  {
   "cell_type": "markdown",
   "id": "70378cb7",
   "metadata": {},
   "source": [
    "sum 원소의 합을 계산한다."
   ]
  },
  {
   "cell_type": "code",
   "execution_count": 150,
   "id": "a1bb6d06",
   "metadata": {},
   "outputs": [
    {
     "data": {
      "text/plain": [
       "40.0"
      ]
     },
     "execution_count": 150,
     "metadata": {},
     "output_type": "execute_result"
    }
   ],
   "source": [
    "arr.sum()"
   ]
  },
  {
   "cell_type": "code",
   "execution_count": 151,
   "id": "a0b13891",
   "metadata": {},
   "outputs": [
    {
     "data": {
      "text/plain": [
       "array([0., 1., 2., 3., 4.])"
      ]
     },
     "execution_count": 151,
     "metadata": {},
     "output_type": "execute_result"
    }
   ],
   "source": [
    "arr.mean(axis=1) #열 기준"
   ]
  },
  {
   "cell_type": "code",
   "execution_count": 154,
   "id": "7cb6ead6",
   "metadata": {},
   "outputs": [
    {
     "data": {
      "text/plain": [
       "array([10., 10., 10., 10.])"
      ]
     },
     "execution_count": 154,
     "metadata": {},
     "output_type": "execute_result"
    }
   ],
   "source": [
    "arr.sum(axis=0) #행 기준"
   ]
  },
  {
   "cell_type": "markdown",
   "id": "711a8119",
   "metadata": {},
   "source": [
    "std, var 각각 표준편차와 분산을 구한다."
   ]
  },
  {
   "cell_type": "code",
   "execution_count": 155,
   "id": "04726b40",
   "metadata": {},
   "outputs": [
    {
     "data": {
      "text/plain": [
       "1.4142135623730951"
      ]
     },
     "execution_count": 155,
     "metadata": {},
     "output_type": "execute_result"
    }
   ],
   "source": [
    "np.std(arr)"
   ]
  },
  {
   "cell_type": "code",
   "execution_count": 156,
   "id": "d587bb1e",
   "metadata": {},
   "outputs": [
    {
     "data": {
      "text/plain": [
       "2.0"
      ]
     },
     "execution_count": 156,
     "metadata": {},
     "output_type": "execute_result"
    }
   ],
   "source": [
    "np.var(arr)"
   ]
  },
  {
   "cell_type": "markdown",
   "id": "a7b7d25c",
   "metadata": {},
   "source": [
    "min, max 최솟값과 최댓값"
   ]
  },
  {
   "cell_type": "code",
   "execution_count": 158,
   "id": "89d36160",
   "metadata": {},
   "outputs": [
    {
     "data": {
      "text/plain": [
       "0.0"
      ]
     },
     "execution_count": 158,
     "metadata": {},
     "output_type": "execute_result"
    }
   ],
   "source": [
    "np.min(arr)"
   ]
  },
  {
   "cell_type": "markdown",
   "id": "f75365a4",
   "metadata": {},
   "source": [
    "argmin, argmax 최소 원소, 최대 원소의 최초 색인값"
   ]
  },
  {
   "cell_type": "code",
   "execution_count": 161,
   "id": "69effab6",
   "metadata": {},
   "outputs": [
    {
     "data": {
      "text/plain": [
       "11"
      ]
     },
     "execution_count": 161,
     "metadata": {},
     "output_type": "execute_result"
    }
   ],
   "source": [
    "arr[2][3]=999\n",
    "np.argmax(arr)"
   ]
  },
  {
   "cell_type": "markdown",
   "id": "3ffd86fd",
   "metadata": {},
   "source": [
    "cumsum, cumprod 각각 원소의 누적합, 누적곱"
   ]
  },
  {
   "cell_type": "code",
   "execution_count": 169,
   "id": "ae6311e4",
   "metadata": {},
   "outputs": [
    {
     "data": {
      "text/plain": [
       "array([[0, 1, 2],\n",
       "       [3, 4, 5],\n",
       "       [6, 7, 8]])"
      ]
     },
     "execution_count": 169,
     "metadata": {},
     "output_type": "execute_result"
    }
   ],
   "source": [
    "arr = np.arange(9).reshape(3,3)\n",
    "arr"
   ]
  },
  {
   "cell_type": "code",
   "execution_count": 170,
   "id": "e0e7a5b3",
   "metadata": {},
   "outputs": [
    {
     "data": {
      "text/plain": [
       "array([[ 0,  1,  2],\n",
       "       [ 3,  5,  7],\n",
       "       [ 9, 12, 15]], dtype=int32)"
      ]
     },
     "execution_count": 170,
     "metadata": {},
     "output_type": "execute_result"
    }
   ],
   "source": [
    "arr.cumsum(axis=0)"
   ]
  },
  {
   "cell_type": "code",
   "execution_count": 171,
   "id": "986eea95",
   "metadata": {
    "scrolled": true
   },
   "outputs": [
    {
     "data": {
      "text/plain": [
       "array([[  0,   0,   0],\n",
       "       [  3,  12,  60],\n",
       "       [  6,  42, 336]], dtype=int32)"
      ]
     },
     "execution_count": 171,
     "metadata": {},
     "output_type": "execute_result"
    }
   ],
   "source": [
    "arr.cumprod(axis=1)"
   ]
  },
  {
   "cell_type": "markdown",
   "id": "567b26d3",
   "metadata": {},
   "source": [
    "### 불리언 배열을 위한 메서드"
   ]
  },
  {
   "cell_type": "code",
   "execution_count": 172,
   "id": "9841910f",
   "metadata": {},
   "outputs": [
    {
     "data": {
      "text/plain": [
       "52"
      ]
     },
     "execution_count": 172,
     "metadata": {},
     "output_type": "execute_result"
    }
   ],
   "source": [
    "arr = np.random.randn(100)\n",
    "(arr>0).sum() #양수인 원소의 개수"
   ]
  },
  {
   "cell_type": "code",
   "execution_count": 173,
   "id": "96276ec7",
   "metadata": {},
   "outputs": [],
   "source": [
    "bools=np.array([False, True, False, False, True])"
   ]
  },
  {
   "cell_type": "code",
   "execution_count": 174,
   "id": "9b64c30b",
   "metadata": {},
   "outputs": [
    {
     "data": {
      "text/plain": [
       "True"
      ]
     },
     "execution_count": 174,
     "metadata": {},
     "output_type": "execute_result"
    }
   ],
   "source": [
    "bools.any() #하나 이상의 값이 True"
   ]
  },
  {
   "cell_type": "code",
   "execution_count": 175,
   "id": "05f9acfe",
   "metadata": {},
   "outputs": [
    {
     "data": {
      "text/plain": [
       "False"
      ]
     },
     "execution_count": 175,
     "metadata": {},
     "output_type": "execute_result"
    }
   ],
   "source": [
    "bools.all() #전부 True"
   ]
  },
  {
   "cell_type": "markdown",
   "id": "614569f5",
   "metadata": {},
   "source": [
    "### 정렬"
   ]
  },
  {
   "cell_type": "code",
   "execution_count": 176,
   "id": "5d2d914c",
   "metadata": {},
   "outputs": [
    {
     "data": {
      "text/plain": [
       "array([ 0.93156108,  0.38324332, -0.37644802,  0.90149217, -1.42154305,\n",
       "       -1.32230902])"
      ]
     },
     "execution_count": 176,
     "metadata": {},
     "output_type": "execute_result"
    }
   ],
   "source": [
    "arr= np.random.randn(6)\n",
    "arr"
   ]
  },
  {
   "cell_type": "code",
   "execution_count": 178,
   "id": "05483743",
   "metadata": {},
   "outputs": [
    {
     "data": {
      "text/plain": [
       "array([-1.42154305, -1.32230902, -0.37644802,  0.38324332,  0.90149217,\n",
       "        0.93156108])"
      ]
     },
     "execution_count": 178,
     "metadata": {},
     "output_type": "execute_result"
    }
   ],
   "source": [
    "arr.sort()\n",
    "arr"
   ]
  },
  {
   "cell_type": "code",
   "execution_count": 191,
   "id": "b5ea113f",
   "metadata": {},
   "outputs": [
    {
     "data": {
      "text/plain": [
       "array([[-0.72431269, -0.58090141, -1.41170036],\n",
       "       [ 0.05960758, -1.92933747, -1.96726372],\n",
       "       [ 0.09702989, -0.79265945,  0.77730547],\n",
       "       [ 0.16349342,  0.15548061,  0.8301269 ],\n",
       "       [ 0.63199358, -0.44511582, -0.10589524]])"
      ]
     },
     "execution_count": 191,
     "metadata": {},
     "output_type": "execute_result"
    }
   ],
   "source": [
    "arr= np.random.randn(5,3)\n",
    "arr"
   ]
  },
  {
   "cell_type": "code",
   "execution_count": 198,
   "id": "926811ff",
   "metadata": {},
   "outputs": [
    {
     "data": {
      "text/plain": [
       "array([[-1.41170036, -0.72431269, -0.58090141],\n",
       "       [-1.96726372, -1.92933747,  0.05960758],\n",
       "       [-0.79265945,  0.09702989,  0.77730547],\n",
       "       [ 0.15548061,  0.16349342,  0.8301269 ],\n",
       "       [-0.44511582, -0.10589524,  0.63199358]])"
      ]
     },
     "execution_count": 198,
     "metadata": {},
     "output_type": "execute_result"
    }
   ],
   "source": [
    "arr.sort(1) #1차원 부분 정렬\n",
    "arr"
   ]
  },
  {
   "cell_type": "code",
   "execution_count": 196,
   "id": "a1476913",
   "metadata": {},
   "outputs": [
    {
     "data": {
      "text/plain": [
       "array([[-1.41170036, -0.72431269, -0.58090141],\n",
       "       [-1.96726372, -1.92933747,  0.05960758],\n",
       "       [-0.79265945,  0.09702989,  0.77730547],\n",
       "       [ 0.15548061,  0.16349342,  0.8301269 ],\n",
       "       [-0.44511582, -0.10589524,  0.63199358]])"
      ]
     },
     "execution_count": 196,
     "metadata": {},
     "output_type": "execute_result"
    }
   ],
   "source": [
    "np.sort(arr) #np.sort는 복사본을 반환한다."
   ]
  },
  {
   "cell_type": "code",
   "execution_count": 197,
   "id": "be5921a6",
   "metadata": {},
   "outputs": [
    {
     "data": {
      "text/plain": [
       "array([[-0.72431269, -0.58090141, -1.41170036],\n",
       "       [ 0.05960758, -1.92933747, -1.96726372],\n",
       "       [ 0.09702989, -0.79265945,  0.77730547],\n",
       "       [ 0.16349342,  0.15548061,  0.8301269 ],\n",
       "       [ 0.63199358, -0.44511582, -0.10589524]])"
      ]
     },
     "execution_count": 197,
     "metadata": {},
     "output_type": "execute_result"
    }
   ],
   "source": [
    "arr"
   ]
  },
  {
   "cell_type": "code",
   "execution_count": 199,
   "id": "393cff18",
   "metadata": {},
   "outputs": [
    {
     "data": {
      "text/plain": [
       "-1.6896459250996785"
      ]
     },
     "execution_count": 199,
     "metadata": {},
     "output_type": "execute_result"
    }
   ],
   "source": [
    "large_arr = np.random.randn(1000)\n",
    "large_arr.sort()\n",
    "large_arr[int(0.05 * len(large_arr))] #5% 분위수"
   ]
  },
  {
   "cell_type": "markdown",
   "id": "3e89f101",
   "metadata": {},
   "source": [
    "### 집합 관련 함수"
   ]
  },
  {
   "cell_type": "markdown",
   "id": "0723e972",
   "metadata": {},
   "source": [
    "unique 배열에서 중복된 원소를 제거한 뒤 정렬하여 반환한다."
   ]
  },
  {
   "cell_type": "code",
   "execution_count": 200,
   "id": "c63b5e82",
   "metadata": {},
   "outputs": [
    {
     "data": {
      "text/plain": [
       "array(['Bob', 'Joe', 'Will'], dtype='<U4')"
      ]
     },
     "execution_count": 200,
     "metadata": {},
     "output_type": "execute_result"
    }
   ],
   "source": [
    "names = np.array(['Bob','Joe','Will','Bob','Will','Joe','Joe'])\n",
    "np.unique(names)"
   ]
  },
  {
   "cell_type": "code",
   "execution_count": 201,
   "id": "dc17126e",
   "metadata": {},
   "outputs": [
    {
     "data": {
      "text/plain": [
       "array([1, 2, 3])"
      ]
     },
     "execution_count": 201,
     "metadata": {},
     "output_type": "execute_result"
    }
   ],
   "source": [
    "ints = np.array([3,3,3,2,2,1,2,3,2,2,1])\n",
    "np.unique(ints)"
   ]
  },
  {
   "cell_type": "markdown",
   "id": "a91fee42",
   "metadata": {},
   "source": [
    "intersect1d(x,y) 교집합을 반환"
   ]
  },
  {
   "cell_type": "code",
   "execution_count": 203,
   "id": "b8184a54",
   "metadata": {},
   "outputs": [
    {
     "data": {
      "text/plain": [
       "array([3, 4])"
      ]
     },
     "execution_count": 203,
     "metadata": {},
     "output_type": "execute_result"
    }
   ],
   "source": [
    "a = np.array([1,2,3,3,4,4,5])\n",
    "b = np.array([6,4,4,3])\n",
    "np.intersect1d(a,b)"
   ]
  },
  {
   "cell_type": "markdown",
   "id": "c73bdcea",
   "metadata": {},
   "source": [
    "union1d 합집합을 반환한다."
   ]
  },
  {
   "cell_type": "code",
   "execution_count": 204,
   "id": "6c4f11cc",
   "metadata": {},
   "outputs": [
    {
     "data": {
      "text/plain": [
       "array([1, 2, 3, 4, 5, 6])"
      ]
     },
     "execution_count": 204,
     "metadata": {},
     "output_type": "execute_result"
    }
   ],
   "source": [
    "np.union1d(a,b)"
   ]
  },
  {
   "cell_type": "markdown",
   "id": "9a9e1a3b",
   "metadata": {},
   "source": [
    "setdiff1d 차집합을 반환한다."
   ]
  },
  {
   "cell_type": "code",
   "execution_count": 205,
   "id": "ff45e13d",
   "metadata": {},
   "outputs": [
    {
     "data": {
      "text/plain": [
       "array([1, 2, 5])"
      ]
     },
     "execution_count": 205,
     "metadata": {},
     "output_type": "execute_result"
    }
   ],
   "source": [
    "np.setdiff1d(a,b)"
   ]
  },
  {
   "cell_type": "markdown",
   "id": "dbe87497",
   "metadata": {},
   "source": [
    "setxor1d 여집합을 반환한다."
   ]
  },
  {
   "cell_type": "code",
   "execution_count": 206,
   "id": "70cf8124",
   "metadata": {},
   "outputs": [
    {
     "data": {
      "text/plain": [
       "array([1, 2, 5, 6])"
      ]
     },
     "execution_count": 206,
     "metadata": {},
     "output_type": "execute_result"
    }
   ],
   "source": [
    "np.setxor1d(a,b)"
   ]
  },
  {
   "cell_type": "markdown",
   "id": "5fde2219",
   "metadata": {},
   "source": [
    "np.in1d(a,b) a의 원소가 b의 원소에 포함되는지 나타내는 불리언 배열을 반환한다."
   ]
  },
  {
   "cell_type": "code",
   "execution_count": 207,
   "id": "2a87dec5",
   "metadata": {},
   "outputs": [
    {
     "data": {
      "text/plain": [
       "array([False, False,  True,  True,  True,  True, False])"
      ]
     },
     "execution_count": 207,
     "metadata": {},
     "output_type": "execute_result"
    }
   ],
   "source": [
    "np.in1d(a,b)"
   ]
  },
  {
   "cell_type": "markdown",
   "id": "b48fb992",
   "metadata": {},
   "source": [
    "### 배열 데이터의 파일 입출력"
   ]
  },
  {
   "cell_type": "code",
   "execution_count": 208,
   "id": "21b31755",
   "metadata": {},
   "outputs": [],
   "source": [
    "arr = np.arange(10)\n",
    "np.save('some_array',arr)"
   ]
  },
  {
   "cell_type": "code",
   "execution_count": 209,
   "id": "859337e1",
   "metadata": {},
   "outputs": [
    {
     "data": {
      "text/plain": [
       "array([0, 1, 2, 3, 4, 5, 6, 7, 8, 9])"
      ]
     },
     "execution_count": 209,
     "metadata": {},
     "output_type": "execute_result"
    }
   ],
   "source": [
    "np.load('some_array.npy')"
   ]
  },
  {
   "cell_type": "markdown",
   "id": "6d66c13c",
   "metadata": {},
   "source": [
    "np.savez('path/name', arr,arr) 압축되지 않은 형식으로 저장한다.\n",
    "np.savez_compressed 압축된 형식으로 저장한다."
   ]
  },
  {
   "cell_type": "code",
   "execution_count": 216,
   "id": "93bd0f93",
   "metadata": {},
   "outputs": [],
   "source": [
    "np.savez('array_archive', a= arr, b=arr)"
   ]
  },
  {
   "cell_type": "code",
   "execution_count": 215,
   "id": "e1676572",
   "metadata": {},
   "outputs": [
    {
     "data": {
      "text/plain": [
       "array([0, 1, 2, 3, 4, 5, 6, 7, 8, 9])"
      ]
     },
     "execution_count": 215,
     "metadata": {},
     "output_type": "execute_result"
    }
   ],
   "source": [
    "arch =np.load('array_archive.npz')\n",
    "arch['b']"
   ]
  },
  {
   "cell_type": "markdown",
   "id": "fe2b0d90",
   "metadata": {},
   "source": [
    "### 선형대수\n",
    "- **나중에 공부해서 다시 정리..**"
   ]
  },
  {
   "cell_type": "markdown",
   "id": "6e5db3c3",
   "metadata": {},
   "source": [
    "dot 행렬곱셈"
   ]
  },
  {
   "cell_type": "code",
   "execution_count": 218,
   "id": "247cb650",
   "metadata": {},
   "outputs": [],
   "source": [
    "x = np.array([[1,2,3],[4,5,6]])\n",
    "y = np.array([[6,23],[-1,7],[8,9]])"
   ]
  },
  {
   "cell_type": "code",
   "execution_count": 219,
   "id": "2967576f",
   "metadata": {},
   "outputs": [
    {
     "data": {
      "text/plain": [
       "array([[1, 2, 3],\n",
       "       [4, 5, 6]])"
      ]
     },
     "execution_count": 219,
     "metadata": {},
     "output_type": "execute_result"
    }
   ],
   "source": [
    "x"
   ]
  },
  {
   "cell_type": "code",
   "execution_count": 220,
   "id": "8aa3381c",
   "metadata": {},
   "outputs": [
    {
     "data": {
      "text/plain": [
       "array([[ 6, 23],\n",
       "       [-1,  7],\n",
       "       [ 8,  9]])"
      ]
     },
     "execution_count": 220,
     "metadata": {},
     "output_type": "execute_result"
    }
   ],
   "source": [
    "y"
   ]
  },
  {
   "cell_type": "code",
   "execution_count": 222,
   "id": "80b9068a",
   "metadata": {},
   "outputs": [
    {
     "data": {
      "text/plain": [
       "array([[ 28,  64],\n",
       "       [ 67, 181]])"
      ]
     },
     "execution_count": 222,
     "metadata": {},
     "output_type": "execute_result"
    }
   ],
   "source": [
    "x.dot(y)\n",
    "np.dot(x,y)"
   ]
  },
  {
   "cell_type": "code",
   "execution_count": 224,
   "id": "c8e6622f",
   "metadata": {},
   "outputs": [
    {
     "data": {
      "text/plain": [
       "array([ 6., 15.])"
      ]
     },
     "execution_count": 224,
     "metadata": {},
     "output_type": "execute_result"
    }
   ],
   "source": [
    "np.dot(x,np.ones(3))\n",
    "x @ np.ones(3) # @ python 3.5 행렬 곱셈을 수행하는 연산자."
   ]
  },
  {
   "cell_type": "code",
   "execution_count": 237,
   "id": "86985ddc",
   "metadata": {},
   "outputs": [],
   "source": [
    "from numpy.linalg import inv, det, eig, pinv, qr, svd, solve, lstsq"
   ]
  },
  {
   "cell_type": "markdown",
   "id": "e4d3d44c",
   "metadata": {},
   "source": [
    "diag 정사각 행렬의 대각원소를 1차원 배열로 반환하거나, 1차원 배열을 대각선 원소로 하고 나머지는 0으로 채운 단위행렬을 반환한다."
   ]
  },
  {
   "cell_type": "code",
   "execution_count": 244,
   "id": "191b48fc",
   "metadata": {},
   "outputs": [
    {
     "data": {
      "text/plain": [
       "array([[ 0,  1,  2],\n",
       "       [ 3,  4,  5],\n",
       "       [ 6,  7,  8],\n",
       "       [ 9, 10, 11]])"
      ]
     },
     "execution_count": 244,
     "metadata": {},
     "output_type": "execute_result"
    }
   ],
   "source": [
    "arr = np.arange(12).reshape(4,3)\n",
    "arr"
   ]
  },
  {
   "cell_type": "code",
   "execution_count": 245,
   "id": "ae12de3b",
   "metadata": {},
   "outputs": [
    {
     "data": {
      "text/plain": [
       "array([0, 4, 8])"
      ]
     },
     "execution_count": 245,
     "metadata": {},
     "output_type": "execute_result"
    }
   ],
   "source": [
    "np.diag(arr)"
   ]
  },
  {
   "cell_type": "code",
   "execution_count": 243,
   "id": "475c3ac4",
   "metadata": {},
   "outputs": [
    {
     "data": {
      "text/plain": [
       "array([[1, 0, 0],\n",
       "       [0, 2, 0],\n",
       "       [0, 0, 3]])"
      ]
     },
     "execution_count": 243,
     "metadata": {},
     "output_type": "execute_result"
    }
   ],
   "source": [
    "np.diag([1,2,3])"
   ]
  },
  {
   "cell_type": "markdown",
   "id": "d628d629",
   "metadata": {},
   "source": [
    "trace 행렬의 대각선 원소의 합을 계산한다."
   ]
  },
  {
   "cell_type": "code",
   "execution_count": 246,
   "id": "0bbb51f6",
   "metadata": {},
   "outputs": [
    {
     "data": {
      "text/plain": [
       "12"
      ]
     },
     "execution_count": 246,
     "metadata": {},
     "output_type": "execute_result"
    }
   ],
   "source": [
    "np.trace(arr)"
   ]
  },
  {
   "cell_type": "markdown",
   "id": "99886448",
   "metadata": {},
   "source": [
    "det 행렬식을 계산한다.\n",
    "- 0이 아니면 역행렬이 존재하고, 0이면 역행렬이 존재하지 않는다."
   ]
  },
  {
   "cell_type": "code",
   "execution_count": 249,
   "id": "0ea786e6",
   "metadata": {},
   "outputs": [
    {
     "data": {
      "text/plain": [
       "-2.0000000000000004"
      ]
     },
     "execution_count": 249,
     "metadata": {},
     "output_type": "execute_result"
    }
   ],
   "source": [
    "arr = np.array([[1,2],[3,4]])\n",
    "det(arr) #역행렬 존재한다."
   ]
  },
  {
   "cell_type": "markdown",
   "id": "d93f9692",
   "metadata": {},
   "source": [
    "inv 정사각 행렬의 역행렬을 계산한다."
   ]
  },
  {
   "cell_type": "code",
   "execution_count": 250,
   "id": "9366b96d",
   "metadata": {},
   "outputs": [
    {
     "data": {
      "text/plain": [
       "array([[-2. ,  1. ],\n",
       "       [ 1.5, -0.5]])"
      ]
     },
     "execution_count": 250,
     "metadata": {},
     "output_type": "execute_result"
    }
   ],
   "source": [
    "inv(arr)"
   ]
  },
  {
   "cell_type": "markdown",
   "id": "c04adf61",
   "metadata": {},
   "source": [
    "eig 정사각 행렬의 [고유값과 고유벡터](https://ko.wikipedia.org/wiki/%EA%B3%A0%EC%9C%B3%EA%B0%92%EA%B3%BC_%EA%B3%A0%EC%9C%A0_%EB%B2%A1%ED%84%B0)를 계산한다."
   ]
  },
  {
   "cell_type": "code",
   "execution_count": 251,
   "id": "f5a259f0",
   "metadata": {},
   "outputs": [
    {
     "data": {
      "text/plain": [
       "(array([-0.37228132,  5.37228132]),\n",
       " array([[-0.82456484, -0.41597356],\n",
       "        [ 0.56576746, -0.90937671]]))"
      ]
     },
     "execution_count": 251,
     "metadata": {},
     "output_type": "execute_result"
    }
   ],
   "source": [
    "eig(arr)"
   ]
  },
  {
   "cell_type": "markdown",
   "id": "e9e1f655",
   "metadata": {},
   "source": [
    "pinv 정사각 행렬의 [무어-펜로즈 유사역행렬](https://ko.wikipedia.org/wiki/%EB%AC%B4%EC%96%B4-%ED%8E%9C%EB%A1%9C%EC%A6%88_%EC%9C%A0%EC%82%AC%EC%97%AD%ED%96%89%EB%A0%AC)을 구한다."
   ]
  },
  {
   "cell_type": "code",
   "execution_count": 252,
   "id": "2c137adf",
   "metadata": {},
   "outputs": [
    {
     "data": {
      "text/plain": [
       "array([[-2. ,  1. ],\n",
       "       [ 1.5, -0.5]])"
      ]
     },
     "execution_count": 252,
     "metadata": {},
     "output_type": "execute_result"
    }
   ],
   "source": [
    "pinv(arr)"
   ]
  },
  {
   "cell_type": "markdown",
   "id": "f2ffddf9",
   "metadata": {},
   "source": [
    "qr [QR분해](https://ko.wikipedia.org/wiki/QR_%EB%B6%84%ED%95%B4)를 계산한다."
   ]
  },
  {
   "cell_type": "code",
   "execution_count": 253,
   "id": "f404d340",
   "metadata": {
    "scrolled": true
   },
   "outputs": [
    {
     "data": {
      "text/plain": [
       "(array([[-0.31622777, -0.9486833 ],\n",
       "        [-0.9486833 ,  0.31622777]]),\n",
       " array([[-3.16227766, -4.42718872],\n",
       "        [ 0.        , -0.63245553]]))"
      ]
     },
     "execution_count": 253,
     "metadata": {},
     "output_type": "execute_result"
    }
   ],
   "source": [
    "qr(arr)"
   ]
  },
  {
   "cell_type": "markdown",
   "id": "8d6b3055",
   "metadata": {},
   "source": [
    "svd [특잇값 분해](https://ko.wikipedia.org/wiki/%ED%8A%B9%EC%9E%87%EA%B0%92_%EB%B6%84%ED%95%B4)를 계산한다."
   ]
  },
  {
   "cell_type": "code",
   "execution_count": 254,
   "id": "98849073",
   "metadata": {},
   "outputs": [
    {
     "data": {
      "text/plain": [
       "(array([[-0.40455358, -0.9145143 ],\n",
       "        [-0.9145143 ,  0.40455358]]),\n",
       " array([5.4649857 , 0.36596619]),\n",
       " array([[-0.57604844, -0.81741556],\n",
       "        [ 0.81741556, -0.57604844]]))"
      ]
     },
     "execution_count": 254,
     "metadata": {},
     "output_type": "execute_result"
    }
   ],
   "source": [
    "svd(arr)"
   ]
  },
  {
   "cell_type": "markdown",
   "id": "78cd43f1",
   "metadata": {},
   "source": [
    "solve 연립방정식 해 구하기. A가 정사각 행렬일 때 Ax = b를 만족하는 x를 구한다."
   ]
  },
  {
   "cell_type": "code",
   "execution_count": 256,
   "id": "10151f04",
   "metadata": {},
   "outputs": [
    {
     "data": {
      "text/plain": [
       "array([-1.,  1.])"
      ]
     },
     "execution_count": 256,
     "metadata": {},
     "output_type": "execute_result"
    }
   ],
   "source": [
    "solve(arr, np.ones(2))"
   ]
  },
  {
   "cell_type": "markdown",
   "id": "ec198c39",
   "metadata": {},
   "source": [
    "lstsq 최소자승 해 구하기. Ax=b를 만족하는 최소제곱해를 구한다."
   ]
  },
  {
   "cell_type": "markdown",
   "id": "10931640",
   "metadata": {},
   "source": [
    "### 난수 생성"
   ]
  },
  {
   "cell_type": "code",
   "execution_count": 3,
   "id": "0a6bbb31",
   "metadata": {},
   "outputs": [
    {
     "data": {
      "text/plain": [
       "array([[ 2.10782528, -0.65946968,  0.58820219,  0.01954488],\n",
       "       [-0.75781471,  1.3307245 , -0.57354085,  1.47463585],\n",
       "       [-0.67437929, -0.01416851,  0.52080927,  1.08896903],\n",
       "       [-1.45218893,  1.37853298, -2.00859428, -0.00775931]])"
      ]
     },
     "execution_count": 3,
     "metadata": {},
     "output_type": "execute_result"
    }
   ],
   "source": [
    "samples = np.random.normal(size=(4,4)) # 표준정규분포 4 X 4\n",
    "samples"
   ]
  },
  {
   "cell_type": "code",
   "execution_count": 4,
   "id": "b61438e3",
   "metadata": {},
   "outputs": [],
   "source": [
    "from random import normalvariate\n",
    "N = 100000"
   ]
  },
  {
   "cell_type": "markdown",
   "id": "a1e23ca5",
   "metadata": {},
   "source": [
    "**내장 random** 모듈은 한 번에 하나의 값만 생성할 수 있다. **np.random**은 큰 표본도 생성가능하기 떄문에 내장 모듈보다 빠르다."
   ]
  },
  {
   "cell_type": "code",
   "execution_count": 5,
   "id": "6049cba5",
   "metadata": {},
   "outputs": [
    {
     "name": "stdout",
     "output_type": "stream",
     "text": [
      "83.1 ms ± 3.82 ms per loop (mean ± std. dev. of 7 runs, 10 loops each)\n"
     ]
    }
   ],
   "source": [
    "%timeit samples = [normalvariate(0,1) for _ in range(N)]"
   ]
  },
  {
   "cell_type": "code",
   "execution_count": 6,
   "id": "8b469c9f",
   "metadata": {},
   "outputs": [
    {
     "name": "stdout",
     "output_type": "stream",
     "text": [
      "2.5 ms ± 53.9 µs per loop (mean ± std. dev. of 7 runs, 100 loops each)\n"
     ]
    }
   ],
   "source": [
    "%timeit np.random.normal(size=N)"
   ]
  },
  {
   "cell_type": "markdown",
   "id": "6255e1df",
   "metadata": {},
   "source": [
    "Numpy 난수 생성기는 **시드값**에 따라 정해진 난수 알고리즘으로 생성한다. 이를 **유사 난수**라고 부른다."
   ]
  },
  {
   "cell_type": "markdown",
   "id": "e8d9f58c",
   "metadata": {},
   "source": [
    "seed 난수 생성기의 시드를 지정한다."
   ]
  },
  {
   "cell_type": "code",
   "execution_count": 21,
   "id": "1de95f92",
   "metadata": {},
   "outputs": [
    {
     "data": {
      "text/plain": [
       "array([ 0.47143516, -1.19097569,  1.43270697, -0.3126519 , -0.72058873,\n",
       "        0.88716294,  0.85958841, -0.6365235 ,  0.01569637, -2.24268495])"
      ]
     },
     "execution_count": 21,
     "metadata": {},
     "output_type": "execute_result"
    }
   ],
   "source": [
    "np.random.seed(1234)\n",
    "\n",
    "np.random.randn(10)"
   ]
  },
  {
   "cell_type": "markdown",
   "id": "aa75d8d9",
   "metadata": {},
   "source": [
    "RandomState 격리된 난수 생성기를 만들 수 있다."
   ]
  },
  {
   "cell_type": "code",
   "execution_count": 20,
   "id": "e24293e1",
   "metadata": {},
   "outputs": [
    {
     "data": {
      "text/plain": [
       "array([ 0.47143516, -1.19097569,  1.43270697, -0.3126519 , -0.72058873,\n",
       "        0.88716294,  0.85958841, -0.6365235 ,  0.01569637, -2.24268495])"
      ]
     },
     "execution_count": 20,
     "metadata": {},
     "output_type": "execute_result"
    }
   ],
   "source": [
    "rng = np.random.RandomState(1234)\n",
    "rng.randn(10)"
   ]
  },
  {
   "cell_type": "markdown",
   "id": "bb1e4c16",
   "metadata": {},
   "source": [
    "permutation 순서를 임의로 바꾸거나 임의의 순열 뷰를 반환한다"
   ]
  },
  {
   "cell_type": "code",
   "execution_count": 24,
   "id": "716fc94d",
   "metadata": {},
   "outputs": [
    {
     "data": {
      "text/plain": [
       "array([9, 7, 4, 3, 8, 2, 6, 1, 0, 5])"
      ]
     },
     "execution_count": 24,
     "metadata": {},
     "output_type": "execute_result"
    }
   ],
   "source": [
    "arr = np.arange(10)\n",
    "np.random.permutation(arr)"
   ]
  },
  {
   "cell_type": "code",
   "execution_count": 25,
   "id": "4793c88f",
   "metadata": {},
   "outputs": [
    {
     "data": {
      "text/plain": [
       "array([[ 4,  5,  6,  7],\n",
       "       [ 0,  1,  2,  3],\n",
       "       [ 8,  9, 10, 11]])"
      ]
     },
     "execution_count": 25,
     "metadata": {},
     "output_type": "execute_result"
    }
   ],
   "source": [
    "arr = np.arange(12).reshape(3,4)\n",
    "np.random.permutation(arr)"
   ]
  },
  {
   "cell_type": "markdown",
   "id": "90193384",
   "metadata": {},
   "source": [
    "shuffle 리스트나 배열의 순서를 뒤섞는다."
   ]
  },
  {
   "cell_type": "code",
   "execution_count": 28,
   "id": "e8443dac",
   "metadata": {
    "scrolled": true
   },
   "outputs": [
    {
     "data": {
      "text/plain": [
       "array([[ 8,  9, 10, 11],\n",
       "       [ 4,  5,  6,  7],\n",
       "       [ 0,  1,  2,  3]])"
      ]
     },
     "execution_count": 28,
     "metadata": {},
     "output_type": "execute_result"
    }
   ],
   "source": [
    "np.random.shuffle(arr)\n",
    "arr"
   ]
  },
  {
   "cell_type": "markdown",
   "id": "511b8944",
   "metadata": {},
   "source": [
    "randint 주어진 범위 안에서 임의의 난수를 추출"
   ]
  },
  {
   "cell_type": "code",
   "execution_count": 35,
   "id": "3e36abd7",
   "metadata": {},
   "outputs": [
    {
     "data": {
      "text/plain": [
       "array([1, 3, 7])"
      ]
     },
     "execution_count": 35,
     "metadata": {},
     "output_type": "execute_result"
    }
   ],
   "source": [
    "np.random.randint(0,10,size=3, dtype= int)"
   ]
  },
  {
   "cell_type": "markdown",
   "id": "e61012ef",
   "metadata": {},
   "source": [
    "binomial 이항분포에서 표본을 추출한다."
   ]
  },
  {
   "cell_type": "code",
   "execution_count": 47,
   "id": "edcadbfb",
   "metadata": {
    "scrolled": true
   },
   "outputs": [
    {
     "data": {
      "text/plain": [
       "array([55, 52, 48, 52, 48, 42, 56, 41, 57, 49, 50, 40, 54, 50, 52, 60, 56,\n",
       "       49, 46, 55, 53, 50, 43, 45, 55, 47, 58, 60, 52, 42])"
      ]
     },
     "execution_count": 47,
     "metadata": {},
     "output_type": "execute_result"
    }
   ],
   "source": [
    "np.random.binomial(100,0.5, size=30)"
   ]
  },
  {
   "cell_type": "markdown",
   "id": "09f970b6",
   "metadata": {},
   "source": [
    "normal 정규분포(가우시안)에서 표본을 추출한다."
   ]
  },
  {
   "cell_type": "code",
   "execution_count": 49,
   "id": "b6f5ae64",
   "metadata": {},
   "outputs": [
    {
     "data": {
      "text/plain": [
       "array([100.30543139,  99.91058048,  99.2671976 ,  99.77591705,\n",
       "       100.88854575, 100.89315347, 100.91356875,  99.3968691 ,\n",
       "       100.28114623,  99.3558934 , 100.226845  ,  99.98932188,\n",
       "        99.8035341 ,  99.85563949,  99.86431511,  99.37537019,\n",
       "       100.39925258, 100.95585882, 100.95071772, 100.42564511,\n",
       "       100.23434094,  99.93191123, 100.20945006,  99.81850245,\n",
       "        99.94403438, 100.21676867,  99.40275842,  99.57765858,\n",
       "        99.48864068, 100.26594656])"
      ]
     },
     "execution_count": 49,
     "metadata": {},
     "output_type": "execute_result"
    }
   ],
   "source": [
    "np.random.normal(100,0.5, size=30)"
   ]
  },
  {
   "cell_type": "markdown",
   "id": "b892716e",
   "metadata": {},
   "source": [
    "beta, chisquare, gamma, uniform 각각 베타, 카이제곱분포, 감마분포, 균등[0,1)분포 에서 표본을 추출한다."
   ]
  },
  {
   "cell_type": "code",
   "execution_count": 55,
   "id": "28b4334b",
   "metadata": {},
   "outputs": [
    {
     "data": {
      "text/plain": [
       "3.1296803858334137"
      ]
     },
     "execution_count": 55,
     "metadata": {},
     "output_type": "execute_result"
    }
   ],
   "source": [
    "np.random.chisquare(3)"
   ]
  },
  {
   "cell_type": "markdown",
   "id": "12ab5201",
   "metadata": {},
   "source": [
    "### 계단 오르내리기 예제"
   ]
  },
  {
   "cell_type": "code",
   "execution_count": 62,
   "id": "ad9b703f",
   "metadata": {},
   "outputs": [],
   "source": [
    "nsteps = 1000\n",
    "draws = np.random.randint(0,2, size=nsteps, dtype=int)\n",
    "steps = np.where(draws > 0 , 1, -1) #1이면 1 0이면 -1\n",
    "walk = steps.cumsum() #누적합"
   ]
  },
  {
   "cell_type": "code",
   "execution_count": 71,
   "id": "9d5c2c67",
   "metadata": {},
   "outputs": [
    {
     "data": {
      "text/plain": [
       "[<matplotlib.lines.Line2D at 0x24f75a26b50>]"
      ]
     },
     "execution_count": 71,
     "metadata": {},
     "output_type": "execute_result"
    },
    {
     "name": "stderr",
     "output_type": "stream",
     "text": [
      "D:\\Users\\mangg\\anaconda3\\lib\\site-packages\\matplotlib\\backends\\backend_agg.py:240: RuntimeWarning: Glyph 8722 missing from current font.\n",
      "  font.set_text(s, 0.0, flags=flags)\n",
      "D:\\Users\\mangg\\anaconda3\\lib\\site-packages\\matplotlib\\backends\\backend_agg.py:203: RuntimeWarning: Glyph 8722 missing from current font.\n",
      "  font.set_text(s, 0, flags=flags)\n"
     ]
    },
    {
     "data": {
      "image/png": "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\n",
      "text/plain": [
       "<Figure size 432x288 with 1 Axes>"
      ]
     },
     "metadata": {
      "needs_background": "light"
     },
     "output_type": "display_data"
    }
   ],
   "source": [
    "plt.plot(walk[:100])"
   ]
  },
  {
   "cell_type": "code",
   "execution_count": 72,
   "id": "151c7e5f",
   "metadata": {},
   "outputs": [
    {
     "data": {
      "text/plain": [
       "-11"
      ]
     },
     "execution_count": 72,
     "metadata": {},
     "output_type": "execute_result"
    }
   ],
   "source": [
    "walk[:100].min()"
   ]
  },
  {
   "cell_type": "code",
   "execution_count": 73,
   "id": "5fde3db6",
   "metadata": {},
   "outputs": [
    {
     "data": {
      "text/plain": [
       "3"
      ]
     },
     "execution_count": 73,
     "metadata": {},
     "output_type": "execute_result"
    }
   ],
   "source": [
    "walk[:100].max()"
   ]
  },
  {
   "cell_type": "code",
   "execution_count": 75,
   "id": "0f056c35",
   "metadata": {},
   "outputs": [
    {
     "data": {
      "text/plain": [
       "61"
      ]
     },
     "execution_count": 75,
     "metadata": {},
     "output_type": "execute_result"
    }
   ],
   "source": [
    "(np.abs(walk)>=10).argmax() #처음 10칸 이상 멀어진 값"
   ]
  },
  {
   "cell_type": "markdown",
   "id": "dfa1be85",
   "metadata": {},
   "source": [
    "### 한 번에 시뮬레이션하기\n",
    "- 계단 오르내리기를 5000회 시뮬레이션"
   ]
  },
  {
   "cell_type": "code",
   "execution_count": 101,
   "id": "a5657442",
   "metadata": {},
   "outputs": [],
   "source": [
    "nwalks = 5000\n",
    "nsteps = 1000\n",
    "draws = np.random.randint(0,2, size=(nwalks, nsteps)) # 1000크기의 배열을 5000개 만든다."
   ]
  },
  {
   "cell_type": "code",
   "execution_count": 107,
   "id": "f9521d71",
   "metadata": {},
   "outputs": [
    {
     "data": {
      "text/plain": [
       "array([[ -1,   0,  -1, ..., -22, -23, -24],\n",
       "       [ -1,   0,   1, ..., -32, -33, -34],\n",
       "       [ -1,  -2,  -3, ..., -44, -43, -42],\n",
       "       ...,\n",
       "       [ -1,   0,  -1, ...,  58,  57,  56],\n",
       "       [  1,   2,   3, ...,  -2,  -3,  -2],\n",
       "       [  1,   2,   1, ...,   6,   5,   6]], dtype=int32)"
      ]
     },
     "execution_count": 107,
     "metadata": {},
     "output_type": "execute_result"
    }
   ],
   "source": [
    "steps = np.where(draws >0 , 1, -1)\n",
    "walks = steps.cumsum(axis = 1)\n",
    "walks"
   ]
  },
  {
   "cell_type": "code",
   "execution_count": 108,
   "id": "38fda488",
   "metadata": {},
   "outputs": [
    {
     "data": {
      "text/plain": [
       "124"
      ]
     },
     "execution_count": 108,
     "metadata": {},
     "output_type": "execute_result"
    }
   ],
   "source": [
    "walks.max()"
   ]
  },
  {
   "cell_type": "code",
   "execution_count": 109,
   "id": "73067d30",
   "metadata": {},
   "outputs": [
    {
     "data": {
      "text/plain": [
       "-35"
      ]
     },
     "execution_count": 109,
     "metadata": {},
     "output_type": "execute_result"
    }
   ],
   "source": [
    "walk.min()"
   ]
  },
  {
   "cell_type": "code",
   "execution_count": 121,
   "id": "9046f10e",
   "metadata": {},
   "outputs": [
    {
     "data": {
      "text/plain": [
       "3397"
      ]
     },
     "execution_count": 121,
     "metadata": {},
     "output_type": "execute_result"
    }
   ],
   "source": [
    "hits30 = (np.abs(walks)>=30).any(axis = 1)\n",
    "hits30.sum() #30이 되는 경우의 수"
   ]
  },
  {
   "cell_type": "code",
   "execution_count": 126,
   "id": "97f34d3c",
   "metadata": {},
   "outputs": [
    {
     "data": {
      "text/plain": [
       "501.21018545775684"
      ]
     },
     "execution_count": 126,
     "metadata": {},
     "output_type": "execute_result"
    }
   ],
   "source": [
    "crossing_times = (np.abs(walks[hits30])>=30).argmax(1) #30칸 이상 멀어지는 최소 횟수\n",
    "crossing_times.mean() #30칸 이상 멀어지데 걸리는 평균 "
   ]
  },
  {
   "cell_type": "code",
   "execution_count": 128,
   "id": "32791cef",
   "metadata": {},
   "outputs": [
    {
     "data": {
      "text/plain": [
       "array([[-0.50455853, -0.2425891 , -0.14904972, ...,  0.09130749,\n",
       "         0.12350569,  0.1566285 ],\n",
       "       [ 0.19851574, -0.33062432,  0.16585213, ..., -0.08391636,\n",
       "         0.24958743, -0.25699847],\n",
       "       [ 0.21107282, -0.06969158, -0.30420111, ..., -0.03162525,\n",
       "        -0.2870534 ,  0.25761654],\n",
       "       ...,\n",
       "       [-0.3218139 , -0.30879773,  0.16412443, ..., -0.26823479,\n",
       "         0.35125064,  0.11095275],\n",
       "       [ 0.21343937, -0.01527537, -0.02335349, ..., -0.17386722,\n",
       "        -0.03090523, -0.29330994],\n",
       "       [ 0.15336325,  0.19680687,  0.25611581, ...,  0.31923509,\n",
       "        -0.12292549,  0.49629583]])"
      ]
     },
     "execution_count": 128,
     "metadata": {},
     "output_type": "execute_result"
    }
   ],
   "source": [
    "steps = np.random.normal(loc=0, scale=0.25, size = (nwalks, nsteps))\n",
    "steps"
   ]
  },
  {
   "cell_type": "code",
   "execution_count": 135,
   "id": "87944005",
   "metadata": {},
   "outputs": [
    {
     "data": {
      "text/plain": [
       "(array([  5.,  22.,  73., 148., 193., 253., 186.,  80.,  32.,   8.]),\n",
       " array([-0.76698661, -0.61770275, -0.46841888, -0.31913501, -0.16985114,\n",
       "        -0.02056727,  0.1287166 ,  0.27800046,  0.42728433,  0.5765682 ,\n",
       "         0.72585207]),\n",
       " <BarContainer object of 10 artists>)"
      ]
     },
     "execution_count": 135,
     "metadata": {},
     "output_type": "execute_result"
    },
    {
     "data": {
      "image/png": "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\n",
      "text/plain": [
       "<Figure size 432x288 with 1 Axes>"
      ]
     },
     "metadata": {
      "needs_background": "light"
     },
     "output_type": "display_data"
    }
   ],
   "source": [
    "plt.hist(steps[0])"
   ]
  },
  {
   "cell_type": "markdown",
   "id": "17bf4d9b",
   "metadata": {},
   "source": [
    "> 웻스 맥키니. (2019). Python for Data Analysis 파이썬 라이브러리를 활용한 데이터 분석(2판). 한빛미디어"
   ]
  }
 ],
 "metadata": {
  "kernelspec": {
   "display_name": "Python 3 (ipykernel)",
   "language": "python",
   "name": "python3"
  },
  "language_info": {
   "codemirror_mode": {
    "name": "ipython",
    "version": 3
   },
   "file_extension": ".py",
   "mimetype": "text/x-python",
   "name": "python",
   "nbconvert_exporter": "python",
   "pygments_lexer": "ipython3",
   "version": "3.9.7"
  }
 },
 "nbformat": 4,
 "nbformat_minor": 5
}
